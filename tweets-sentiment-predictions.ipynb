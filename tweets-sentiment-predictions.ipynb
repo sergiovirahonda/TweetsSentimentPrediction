{
 "cells": [
  {
   "cell_type": "markdown",
   "metadata": {
    "papermill": {
     "duration": 0.026396,
     "end_time": "2020-10-01T00:12:24.978872",
     "exception": false,
     "start_time": "2020-10-01T00:12:24.952476",
     "status": "completed"
    },
    "tags": []
   },
   "source": [
    "# Overview\n",
    "\n",
    "This project is based on the dataset available at https://www.kaggle.com/c/tweet-sentiment-extraction/overview which is composed of about 20k tweets to train sentiment predictors.\n",
    "\n",
    "This notebook will guide you through the process of tweets cleaning (a very basic NLP task when dealing with text data), training a few Deep Learning models with different architectures and finally inferencing on test text."
   ]
  },
  {
   "cell_type": "markdown",
   "metadata": {
    "papermill": {
     "duration": 0.024527,
     "end_time": "2020-10-01T00:12:25.029846",
     "exception": false,
     "start_time": "2020-10-01T00:12:25.005319",
     "status": "completed"
    },
    "tags": []
   },
   "source": [
    "# Imports"
   ]
  },
  {
   "cell_type": "code",
   "execution_count": 1,
   "metadata": {
    "execution": {
     "iopub.execute_input": "2020-10-01T00:12:25.088360Z",
     "iopub.status.busy": "2020-10-01T00:12:25.087749Z",
     "iopub.status.idle": "2020-10-01T00:12:33.415394Z",
     "shell.execute_reply": "2020-10-01T00:12:33.415986Z"
    },
    "papermill": {
     "duration": 8.361376,
     "end_time": "2020-10-01T00:12:33.416187",
     "exception": false,
     "start_time": "2020-10-01T00:12:25.054811",
     "status": "completed"
    },
    "tags": []
   },
   "outputs": [
    {
     "name": "stdout",
     "output_type": "stream",
     "text": [
      "Done\n"
     ]
    }
   ],
   "source": [
    "import re\n",
    "import matplotlib.pyplot as plt\n",
    "import string\n",
    "from nltk.corpus import stopwords\n",
    "import nltk\n",
    "from nltk.corpus import wordnet\n",
    "from nltk.stem import WordNetLemmatizer\n",
    "from collections import Counter\n",
    "from wordcloud import WordCloud\n",
    "from nltk.corpus import stopwords\n",
    "import nltk\n",
    "from gensim.utils import simple_preprocess\n",
    "from nltk.corpus import stopwords\n",
    "import gensim\n",
    "from sklearn.model_selection import train_test_split\n",
    "import spacy\n",
    "import warnings\n",
    "warnings.filterwarnings('ignore')\n",
    "import seaborn as sns\n",
    "from sklearn.metrics import confusion_matrix\n",
    "import matplotlib.pyplot as plt \n",
    "import tensorflow as tf\n",
    "import keras\n",
    "import numpy as np\n",
    "import pandas as pd\n",
    "print('Done')"
   ]
  },
  {
   "cell_type": "markdown",
   "metadata": {
    "papermill": {
     "duration": 0.024664,
     "end_time": "2020-10-01T00:12:33.467527",
     "exception": false,
     "start_time": "2020-10-01T00:12:33.442863",
     "status": "completed"
    },
    "tags": []
   },
   "source": [
    "# Data importing"
   ]
  },
  {
   "cell_type": "code",
   "execution_count": 2,
   "metadata": {
    "_cell_guid": "79c7e3d0-c299-4dcb-8224-4455121ee9b0",
    "_uuid": "d629ff2d2480ee46fbb7e2d37f6b5fab8052498a",
    "execution": {
     "iopub.execute_input": "2020-10-01T00:12:33.529657Z",
     "iopub.status.busy": "2020-10-01T00:12:33.528911Z",
     "iopub.status.idle": "2020-10-01T00:12:33.605902Z",
     "shell.execute_reply": "2020-10-01T00:12:33.605400Z"
    },
    "papermill": {
     "duration": 0.113268,
     "end_time": "2020-10-01T00:12:33.605998",
     "exception": false,
     "start_time": "2020-10-01T00:12:33.492730",
     "status": "completed"
    },
    "tags": []
   },
   "outputs": [],
   "source": [
    "train = pd.read_csv('/kaggle/input/tweet-sentiment-extraction/train.csv')"
   ]
  },
  {
   "cell_type": "markdown",
   "metadata": {
    "papermill": {
     "duration": 0.025738,
     "end_time": "2020-10-01T00:12:33.657753",
     "exception": false,
     "start_time": "2020-10-01T00:12:33.632015",
     "status": "completed"
    },
    "tags": []
   },
   "source": [
    "# Data exploration"
   ]
  },
  {
   "cell_type": "code",
   "execution_count": 3,
   "metadata": {
    "execution": {
     "iopub.execute_input": "2020-10-01T00:12:33.724436Z",
     "iopub.status.busy": "2020-10-01T00:12:33.723863Z",
     "iopub.status.idle": "2020-10-01T00:12:33.734870Z",
     "shell.execute_reply": "2020-10-01T00:12:33.735296Z"
    },
    "papermill": {
     "duration": 0.051597,
     "end_time": "2020-10-01T00:12:33.735405",
     "exception": false,
     "start_time": "2020-10-01T00:12:33.683808",
     "status": "completed"
    },
    "tags": []
   },
   "outputs": [
    {
     "data": {
      "text/html": [
       "<div>\n",
       "<style scoped>\n",
       "    .dataframe tbody tr th:only-of-type {\n",
       "        vertical-align: middle;\n",
       "    }\n",
       "\n",
       "    .dataframe tbody tr th {\n",
       "        vertical-align: top;\n",
       "    }\n",
       "\n",
       "    .dataframe thead th {\n",
       "        text-align: right;\n",
       "    }\n",
       "</style>\n",
       "<table border=\"1\" class=\"dataframe\">\n",
       "  <thead>\n",
       "    <tr style=\"text-align: right;\">\n",
       "      <th></th>\n",
       "      <th>textID</th>\n",
       "      <th>text</th>\n",
       "      <th>selected_text</th>\n",
       "      <th>sentiment</th>\n",
       "    </tr>\n",
       "  </thead>\n",
       "  <tbody>\n",
       "    <tr>\n",
       "      <th>0</th>\n",
       "      <td>cb774db0d1</td>\n",
       "      <td>I`d have responded, if I were going</td>\n",
       "      <td>I`d have responded, if I were going</td>\n",
       "      <td>neutral</td>\n",
       "    </tr>\n",
       "    <tr>\n",
       "      <th>1</th>\n",
       "      <td>549e992a42</td>\n",
       "      <td>Sooo SAD I will miss you here in San Diego!!!</td>\n",
       "      <td>Sooo SAD</td>\n",
       "      <td>negative</td>\n",
       "    </tr>\n",
       "    <tr>\n",
       "      <th>2</th>\n",
       "      <td>088c60f138</td>\n",
       "      <td>my boss is bullying me...</td>\n",
       "      <td>bullying me</td>\n",
       "      <td>negative</td>\n",
       "    </tr>\n",
       "    <tr>\n",
       "      <th>3</th>\n",
       "      <td>9642c003ef</td>\n",
       "      <td>what interview! leave me alone</td>\n",
       "      <td>leave me alone</td>\n",
       "      <td>negative</td>\n",
       "    </tr>\n",
       "    <tr>\n",
       "      <th>4</th>\n",
       "      <td>358bd9e861</td>\n",
       "      <td>Sons of ****, why couldn`t they put them on t...</td>\n",
       "      <td>Sons of ****,</td>\n",
       "      <td>negative</td>\n",
       "    </tr>\n",
       "    <tr>\n",
       "      <th>5</th>\n",
       "      <td>28b57f3990</td>\n",
       "      <td>http://www.dothebouncy.com/smf - some shameles...</td>\n",
       "      <td>http://www.dothebouncy.com/smf - some shameles...</td>\n",
       "      <td>neutral</td>\n",
       "    </tr>\n",
       "    <tr>\n",
       "      <th>6</th>\n",
       "      <td>6e0c6d75b1</td>\n",
       "      <td>2am feedings for the baby are fun when he is a...</td>\n",
       "      <td>fun</td>\n",
       "      <td>positive</td>\n",
       "    </tr>\n",
       "    <tr>\n",
       "      <th>7</th>\n",
       "      <td>50e14c0bb8</td>\n",
       "      <td>Soooo high</td>\n",
       "      <td>Soooo high</td>\n",
       "      <td>neutral</td>\n",
       "    </tr>\n",
       "    <tr>\n",
       "      <th>8</th>\n",
       "      <td>e050245fbd</td>\n",
       "      <td>Both of you</td>\n",
       "      <td>Both of you</td>\n",
       "      <td>neutral</td>\n",
       "    </tr>\n",
       "    <tr>\n",
       "      <th>9</th>\n",
       "      <td>fc2cbefa9d</td>\n",
       "      <td>Journey!? Wow... u just became cooler.  hehe....</td>\n",
       "      <td>Wow... u just became cooler.</td>\n",
       "      <td>positive</td>\n",
       "    </tr>\n",
       "    <tr>\n",
       "      <th>10</th>\n",
       "      <td>2339a9b08b</td>\n",
       "      <td>as much as i love to be hopeful, i reckon the...</td>\n",
       "      <td>as much as i love to be hopeful, i reckon the ...</td>\n",
       "      <td>neutral</td>\n",
       "    </tr>\n",
       "    <tr>\n",
       "      <th>11</th>\n",
       "      <td>16fab9f95b</td>\n",
       "      <td>I really really like the song Love Story by Ta...</td>\n",
       "      <td>like</td>\n",
       "      <td>positive</td>\n",
       "    </tr>\n",
       "    <tr>\n",
       "      <th>12</th>\n",
       "      <td>74a76f6e0a</td>\n",
       "      <td>My Sharpie is running DANGERously low on ink</td>\n",
       "      <td>DANGERously</td>\n",
       "      <td>negative</td>\n",
       "    </tr>\n",
       "    <tr>\n",
       "      <th>13</th>\n",
       "      <td>04dd1d2e34</td>\n",
       "      <td>i want to go to music tonight but i lost my vo...</td>\n",
       "      <td>lost</td>\n",
       "      <td>negative</td>\n",
       "    </tr>\n",
       "    <tr>\n",
       "      <th>14</th>\n",
       "      <td>bbe3cbf620</td>\n",
       "      <td>test test from the LG enV2</td>\n",
       "      <td>test test from the LG enV2</td>\n",
       "      <td>neutral</td>\n",
       "    </tr>\n",
       "  </tbody>\n",
       "</table>\n",
       "</div>"
      ],
      "text/plain": [
       "        textID                                               text  \\\n",
       "0   cb774db0d1                I`d have responded, if I were going   \n",
       "1   549e992a42      Sooo SAD I will miss you here in San Diego!!!   \n",
       "2   088c60f138                          my boss is bullying me...   \n",
       "3   9642c003ef                     what interview! leave me alone   \n",
       "4   358bd9e861   Sons of ****, why couldn`t they put them on t...   \n",
       "5   28b57f3990  http://www.dothebouncy.com/smf - some shameles...   \n",
       "6   6e0c6d75b1  2am feedings for the baby are fun when he is a...   \n",
       "7   50e14c0bb8                                         Soooo high   \n",
       "8   e050245fbd                                        Both of you   \n",
       "9   fc2cbefa9d   Journey!? Wow... u just became cooler.  hehe....   \n",
       "10  2339a9b08b   as much as i love to be hopeful, i reckon the...   \n",
       "11  16fab9f95b  I really really like the song Love Story by Ta...   \n",
       "12  74a76f6e0a       My Sharpie is running DANGERously low on ink   \n",
       "13  04dd1d2e34  i want to go to music tonight but i lost my vo...   \n",
       "14  bbe3cbf620                         test test from the LG enV2   \n",
       "\n",
       "                                        selected_text sentiment  \n",
       "0                 I`d have responded, if I were going   neutral  \n",
       "1                                            Sooo SAD  negative  \n",
       "2                                         bullying me  negative  \n",
       "3                                      leave me alone  negative  \n",
       "4                                       Sons of ****,  negative  \n",
       "5   http://www.dothebouncy.com/smf - some shameles...   neutral  \n",
       "6                                                 fun  positive  \n",
       "7                                          Soooo high   neutral  \n",
       "8                                         Both of you   neutral  \n",
       "9                        Wow... u just became cooler.  positive  \n",
       "10  as much as i love to be hopeful, i reckon the ...   neutral  \n",
       "11                                               like  positive  \n",
       "12                                        DANGERously  negative  \n",
       "13                                               lost  negative  \n",
       "14                         test test from the LG enV2   neutral  "
      ]
     },
     "execution_count": 3,
     "metadata": {},
     "output_type": "execute_result"
    }
   ],
   "source": [
    "train.head(15)"
   ]
  },
  {
   "cell_type": "code",
   "execution_count": 4,
   "metadata": {
    "execution": {
     "iopub.execute_input": "2020-10-01T00:12:33.791113Z",
     "iopub.status.busy": "2020-10-01T00:12:33.790606Z",
     "iopub.status.idle": "2020-10-01T00:12:33.796521Z",
     "shell.execute_reply": "2020-10-01T00:12:33.796083Z"
    },
    "papermill": {
     "duration": 0.035269,
     "end_time": "2020-10-01T00:12:33.796612",
     "exception": false,
     "start_time": "2020-10-01T00:12:33.761343",
     "status": "completed"
    },
    "tags": []
   },
   "outputs": [
    {
     "data": {
      "text/plain": [
       "27481"
      ]
     },
     "execution_count": 4,
     "metadata": {},
     "output_type": "execute_result"
    }
   ],
   "source": [
    "#Let's get the dataset lenght\n",
    "len(train)"
   ]
  },
  {
   "cell_type": "code",
   "execution_count": 5,
   "metadata": {
    "execution": {
     "iopub.execute_input": "2020-10-01T00:12:33.858372Z",
     "iopub.status.busy": "2020-10-01T00:12:33.857168Z",
     "iopub.status.idle": "2020-10-01T00:12:33.862446Z",
     "shell.execute_reply": "2020-10-01T00:12:33.861906Z"
    },
    "papermill": {
     "duration": 0.039715,
     "end_time": "2020-10-01T00:12:33.862582",
     "exception": false,
     "start_time": "2020-10-01T00:12:33.822867",
     "status": "completed"
    },
    "tags": []
   },
   "outputs": [
    {
     "data": {
      "text/plain": [
       "array(['neutral', 'negative', 'positive'], dtype=object)"
      ]
     },
     "execution_count": 5,
     "metadata": {},
     "output_type": "execute_result"
    }
   ],
   "source": [
    "#Is there any other different value than neutral, negative and positive?\n",
    "train['sentiment'].unique()"
   ]
  },
  {
   "cell_type": "code",
   "execution_count": 6,
   "metadata": {
    "execution": {
     "iopub.execute_input": "2020-10-01T00:12:33.927343Z",
     "iopub.status.busy": "2020-10-01T00:12:33.926557Z",
     "iopub.status.idle": "2020-10-01T00:12:33.963001Z",
     "shell.execute_reply": "2020-10-01T00:12:33.962547Z"
    },
    "papermill": {
     "duration": 0.07261,
     "end_time": "2020-10-01T00:12:33.963088",
     "exception": false,
     "start_time": "2020-10-01T00:12:33.890478",
     "status": "completed"
    },
    "tags": []
   },
   "outputs": [
    {
     "data": {
      "text/html": [
       "<div>\n",
       "<style scoped>\n",
       "    .dataframe tbody tr th:only-of-type {\n",
       "        vertical-align: middle;\n",
       "    }\n",
       "\n",
       "    .dataframe tbody tr th {\n",
       "        vertical-align: top;\n",
       "    }\n",
       "\n",
       "    .dataframe thead th {\n",
       "        text-align: right;\n",
       "    }\n",
       "</style>\n",
       "<table border=\"1\" class=\"dataframe\">\n",
       "  <thead>\n",
       "    <tr style=\"text-align: right;\">\n",
       "      <th></th>\n",
       "      <th>textID</th>\n",
       "      <th>text</th>\n",
       "      <th>selected_text</th>\n",
       "    </tr>\n",
       "    <tr>\n",
       "      <th>sentiment</th>\n",
       "      <th></th>\n",
       "      <th></th>\n",
       "      <th></th>\n",
       "    </tr>\n",
       "  </thead>\n",
       "  <tbody>\n",
       "    <tr>\n",
       "      <th>negative</th>\n",
       "      <td>7781</td>\n",
       "      <td>7781</td>\n",
       "      <td>5861</td>\n",
       "    </tr>\n",
       "    <tr>\n",
       "      <th>neutral</th>\n",
       "      <td>11118</td>\n",
       "      <td>11117</td>\n",
       "      <td>11111</td>\n",
       "    </tr>\n",
       "    <tr>\n",
       "      <th>positive</th>\n",
       "      <td>8582</td>\n",
       "      <td>8582</td>\n",
       "      <td>5537</td>\n",
       "    </tr>\n",
       "  </tbody>\n",
       "</table>\n",
       "</div>"
      ],
      "text/plain": [
       "           textID   text  selected_text\n",
       "sentiment                              \n",
       "negative     7781   7781           5861\n",
       "neutral     11118  11117          11111\n",
       "positive     8582   8582           5537"
      ]
     },
     "execution_count": 6,
     "metadata": {},
     "output_type": "execute_result"
    }
   ],
   "source": [
    "#How's distributed the dataset? Is it biased?\n",
    "train.groupby('sentiment').nunique()"
   ]
  },
  {
   "cell_type": "markdown",
   "metadata": {
    "papermill": {
     "duration": 0.027055,
     "end_time": "2020-10-01T00:12:34.017453",
     "exception": false,
     "start_time": "2020-10-01T00:12:33.990398",
     "status": "completed"
    },
    "tags": []
   },
   "source": [
    "# Data cleaning\n",
    "\n",
    "Even when the dataset is a little bit biased, we'll keep it this way because the differences are not significant."
   ]
  },
  {
   "cell_type": "code",
   "execution_count": 7,
   "metadata": {
    "execution": {
     "iopub.execute_input": "2020-10-01T00:12:34.081882Z",
     "iopub.status.busy": "2020-10-01T00:12:34.080941Z",
     "iopub.status.idle": "2020-10-01T00:12:34.084345Z",
     "shell.execute_reply": "2020-10-01T00:12:34.084725Z"
    },
    "papermill": {
     "duration": 0.040234,
     "end_time": "2020-10-01T00:12:34.084834",
     "exception": false,
     "start_time": "2020-10-01T00:12:34.044600",
     "status": "completed"
    },
    "tags": []
   },
   "outputs": [
    {
     "data": {
      "text/html": [
       "<div>\n",
       "<style scoped>\n",
       "    .dataframe tbody tr th:only-of-type {\n",
       "        vertical-align: middle;\n",
       "    }\n",
       "\n",
       "    .dataframe tbody tr th {\n",
       "        vertical-align: top;\n",
       "    }\n",
       "\n",
       "    .dataframe thead th {\n",
       "        text-align: right;\n",
       "    }\n",
       "</style>\n",
       "<table border=\"1\" class=\"dataframe\">\n",
       "  <thead>\n",
       "    <tr style=\"text-align: right;\">\n",
       "      <th></th>\n",
       "      <th>selected_text</th>\n",
       "      <th>sentiment</th>\n",
       "    </tr>\n",
       "  </thead>\n",
       "  <tbody>\n",
       "    <tr>\n",
       "      <th>0</th>\n",
       "      <td>I`d have responded, if I were going</td>\n",
       "      <td>neutral</td>\n",
       "    </tr>\n",
       "    <tr>\n",
       "      <th>1</th>\n",
       "      <td>Sooo SAD</td>\n",
       "      <td>negative</td>\n",
       "    </tr>\n",
       "    <tr>\n",
       "      <th>2</th>\n",
       "      <td>bullying me</td>\n",
       "      <td>negative</td>\n",
       "    </tr>\n",
       "    <tr>\n",
       "      <th>3</th>\n",
       "      <td>leave me alone</td>\n",
       "      <td>negative</td>\n",
       "    </tr>\n",
       "    <tr>\n",
       "      <th>4</th>\n",
       "      <td>Sons of ****,</td>\n",
       "      <td>negative</td>\n",
       "    </tr>\n",
       "  </tbody>\n",
       "</table>\n",
       "</div>"
      ],
      "text/plain": [
       "                         selected_text sentiment\n",
       "0  I`d have responded, if I were going   neutral\n",
       "1                             Sooo SAD  negative\n",
       "2                          bullying me  negative\n",
       "3                       leave me alone  negative\n",
       "4                        Sons of ****,  negative"
      ]
     },
     "execution_count": 7,
     "metadata": {},
     "output_type": "execute_result"
    }
   ],
   "source": [
    "#Let's keep only the columns that we're going to use\n",
    "train = train[['selected_text','sentiment']]\n",
    "train.head()"
   ]
  },
  {
   "cell_type": "code",
   "execution_count": 8,
   "metadata": {
    "execution": {
     "iopub.execute_input": "2020-10-01T00:12:34.147785Z",
     "iopub.status.busy": "2020-10-01T00:12:34.147011Z",
     "iopub.status.idle": "2020-10-01T00:12:34.150299Z",
     "shell.execute_reply": "2020-10-01T00:12:34.150719Z"
    },
    "papermill": {
     "duration": 0.038256,
     "end_time": "2020-10-01T00:12:34.150817",
     "exception": false,
     "start_time": "2020-10-01T00:12:34.112561",
     "status": "completed"
    },
    "tags": []
   },
   "outputs": [
    {
     "data": {
      "text/plain": [
       "1"
      ]
     },
     "execution_count": 8,
     "metadata": {},
     "output_type": "execute_result"
    }
   ],
   "source": [
    "#Is there any null value?\n",
    "train[\"selected_text\"].isnull().sum()"
   ]
  },
  {
   "cell_type": "code",
   "execution_count": 9,
   "metadata": {
    "execution": {
     "iopub.execute_input": "2020-10-01T00:12:34.215409Z",
     "iopub.status.busy": "2020-10-01T00:12:34.214643Z",
     "iopub.status.idle": "2020-10-01T00:12:34.217654Z",
     "shell.execute_reply": "2020-10-01T00:12:34.217202Z"
    },
    "papermill": {
     "duration": 0.038861,
     "end_time": "2020-10-01T00:12:34.217757",
     "exception": false,
     "start_time": "2020-10-01T00:12:34.178896",
     "status": "completed"
    },
    "tags": []
   },
   "outputs": [],
   "source": [
    "#Let's fill the only null value.\n",
    "train[\"selected_text\"].fillna(\"No content\", inplace = True)"
   ]
  },
  {
   "cell_type": "markdown",
   "metadata": {
    "papermill": {
     "duration": 0.028485,
     "end_time": "2020-10-01T00:12:34.274863",
     "exception": false,
     "start_time": "2020-10-01T00:12:34.246378",
     "status": "completed"
    },
    "tags": []
   },
   "source": [
    "### The next steps about data cleaning will be:\n",
    "\n",
    "* Remove URLs from the tweets\n",
    "* Tokenize text\n",
    "* Remove emails\n",
    "* Remove new lines characters\n",
    "* Remove distracting single quotes\n",
    "* Remove all punctuation signs\n",
    "* Lowercase all text\n",
    "* Detokenize text\n",
    "* Convert list of texts to Numpy array"
   ]
  },
  {
   "cell_type": "code",
   "execution_count": 10,
   "metadata": {
    "execution": {
     "iopub.execute_input": "2020-10-01T00:12:34.340698Z",
     "iopub.status.busy": "2020-10-01T00:12:34.339800Z",
     "iopub.status.idle": "2020-10-01T00:12:36.794791Z",
     "shell.execute_reply": "2020-10-01T00:12:36.795238Z"
    },
    "papermill": {
     "duration": 2.491816,
     "end_time": "2020-10-01T00:12:36.795384",
     "exception": false,
     "start_time": "2020-10-01T00:12:34.303568",
     "status": "completed"
    },
    "tags": []
   },
   "outputs": [
    {
     "data": {
      "text/html": [
       "<div>\n",
       "<style scoped>\n",
       "    .dataframe tbody tr th:only-of-type {\n",
       "        vertical-align: middle;\n",
       "    }\n",
       "\n",
       "    .dataframe tbody tr th {\n",
       "        vertical-align: top;\n",
       "    }\n",
       "\n",
       "    .dataframe thead th {\n",
       "        text-align: right;\n",
       "    }\n",
       "</style>\n",
       "<table border=\"1\" class=\"dataframe\">\n",
       "  <thead>\n",
       "    <tr style=\"text-align: right;\">\n",
       "      <th></th>\n",
       "      <th>selected_text</th>\n",
       "      <th>sentiment</th>\n",
       "    </tr>\n",
       "  </thead>\n",
       "  <tbody>\n",
       "    <tr>\n",
       "      <th>0</th>\n",
       "      <td>I`d have responded, if I were going</td>\n",
       "      <td>neutral</td>\n",
       "    </tr>\n",
       "    <tr>\n",
       "      <th>1</th>\n",
       "      <td>Sooo SAD</td>\n",
       "      <td>negative</td>\n",
       "    </tr>\n",
       "    <tr>\n",
       "      <th>2</th>\n",
       "      <td>bullying me</td>\n",
       "      <td>negative</td>\n",
       "    </tr>\n",
       "    <tr>\n",
       "      <th>3</th>\n",
       "      <td>leave me alone</td>\n",
       "      <td>negative</td>\n",
       "    </tr>\n",
       "    <tr>\n",
       "      <th>4</th>\n",
       "      <td>Sons of ****,</td>\n",
       "      <td>negative</td>\n",
       "    </tr>\n",
       "  </tbody>\n",
       "</table>\n",
       "</div>"
      ],
      "text/plain": [
       "                         selected_text sentiment\n",
       "0  I`d have responded, if I were going   neutral\n",
       "1                             Sooo SAD  negative\n",
       "2                          bullying me  negative\n",
       "3                       leave me alone  negative\n",
       "4                        Sons of ****,  negative"
      ]
     },
     "execution_count": 10,
     "metadata": {},
     "output_type": "execute_result"
    }
   ],
   "source": [
    "#Removing URLs with a regular expression\n",
    "\n",
    "def remove_urls(text):\n",
    "    url_pattern = re.compile(r'https?://\\S+|www\\.\\S+')\n",
    "    return url_pattern.sub(r'', text)\n",
    "\n",
    "for i in range(len(train)):\n",
    "    train.at[i,'selected_text'] = remove_urls(train.iloc[i]['selected_text'])\n",
    "train.head()"
   ]
  },
  {
   "cell_type": "code",
   "execution_count": 11,
   "metadata": {
    "execution": {
     "iopub.execute_input": "2020-10-01T00:12:36.862109Z",
     "iopub.status.busy": "2020-10-01T00:12:36.861360Z",
     "iopub.status.idle": "2020-10-01T00:12:36.863823Z",
     "shell.execute_reply": "2020-10-01T00:12:36.864371Z"
    },
    "papermill": {
     "duration": 0.039706,
     "end_time": "2020-10-01T00:12:36.864497",
     "exception": false,
     "start_time": "2020-10-01T00:12:36.824791",
     "status": "completed"
    },
    "tags": []
   },
   "outputs": [],
   "source": [
    "def depure_data(dataframe):\n",
    "    \n",
    "    #Tokenizing text\n",
    "    data = dataframe['selected_text'].values.tolist()\n",
    "\n",
    "    # Remove Emails\n",
    "    data = [re.sub('\\S*@\\S*\\s?', '', sent) for sent in data]\n",
    "\n",
    "    # Remove new line characters\n",
    "    data = [re.sub('\\s+', ' ', sent) for sent in data]\n",
    "\n",
    "    # Remove distracting single quotes\n",
    "    data = [re.sub(\"\\'\", \"\", sent) for sent in data]\n",
    "\n",
    "    # Remove distracting commas\n",
    "    data = [re.sub(\",\", \"\", sent) for sent in data]\n",
    "\n",
    "    # making all lowercase\n",
    "    data = [sent.lower() for sent in data]\n",
    "\n",
    "    # Remove distracting dots\n",
    "    data = [sent.replace('.', '') for sent in data]\n",
    "    \n",
    "    return data"
   ]
  },
  {
   "cell_type": "code",
   "execution_count": 12,
   "metadata": {
    "execution": {
     "iopub.execute_input": "2020-10-01T00:12:36.941612Z",
     "iopub.status.busy": "2020-10-01T00:12:36.936456Z",
     "iopub.status.idle": "2020-10-01T00:12:37.213905Z",
     "shell.execute_reply": "2020-10-01T00:12:37.214379Z"
    },
    "papermill": {
     "duration": 0.320001,
     "end_time": "2020-10-01T00:12:37.214506",
     "exception": false,
     "start_time": "2020-10-01T00:12:36.894505",
     "status": "completed"
    },
    "tags": []
   },
   "outputs": [
    {
     "data": {
      "text/plain": [
       "['i`d have responded if i were going',\n",
       " 'sooo sad',\n",
       " 'bullying me',\n",
       " 'leave me alone',\n",
       " 'sons of ****']"
      ]
     },
     "execution_count": 12,
     "metadata": {},
     "output_type": "execute_result"
    }
   ],
   "source": [
    "data = depure_data(train)\n",
    "data[:5]"
   ]
  },
  {
   "cell_type": "code",
   "execution_count": 13,
   "metadata": {
    "execution": {
     "iopub.execute_input": "2020-10-01T00:12:37.292543Z",
     "iopub.status.busy": "2020-10-01T00:12:37.287270Z",
     "iopub.status.idle": "2020-10-01T00:12:38.215943Z",
     "shell.execute_reply": "2020-10-01T00:12:38.216454Z"
    },
    "papermill": {
     "duration": 0.9726,
     "end_time": "2020-10-01T00:12:38.216591",
     "exception": false,
     "start_time": "2020-10-01T00:12:37.243991",
     "status": "completed"
    },
    "tags": []
   },
   "outputs": [
    {
     "name": "stdout",
     "output_type": "stream",
     "text": [
      "[['have', 'responded', 'if', 'were', 'going']]\n"
     ]
    }
   ],
   "source": [
    "def sent_to_words(sentences):\n",
    "    for sentence in sentences:\n",
    "        yield(gensim.utils.simple_preprocess(str(sentence), deacc=True))  # deacc=True removes punctuations\n",
    "\n",
    "data_words = list(sent_to_words(data))\n",
    "\n",
    "print(data_words[:1])"
   ]
  },
  {
   "cell_type": "code",
   "execution_count": 14,
   "metadata": {
    "execution": {
     "iopub.execute_input": "2020-10-01T00:12:38.280323Z",
     "iopub.status.busy": "2020-10-01T00:12:38.279547Z",
     "iopub.status.idle": "2020-10-01T00:12:38.283183Z",
     "shell.execute_reply": "2020-10-01T00:12:38.282742Z"
    },
    "papermill": {
     "duration": 0.03711,
     "end_time": "2020-10-01T00:12:38.283285",
     "exception": false,
     "start_time": "2020-10-01T00:12:38.246175",
     "status": "completed"
    },
    "tags": []
   },
   "outputs": [
    {
     "data": {
      "text/plain": [
       "27481"
      ]
     },
     "execution_count": 14,
     "metadata": {},
     "output_type": "execute_result"
    }
   ],
   "source": [
    "len(data_words)"
   ]
  },
  {
   "cell_type": "code",
   "execution_count": 15,
   "metadata": {
    "execution": {
     "iopub.execute_input": "2020-10-01T00:12:38.366137Z",
     "iopub.status.busy": "2020-10-01T00:12:38.360950Z",
     "iopub.status.idle": "2020-10-01T00:12:40.919838Z",
     "shell.execute_reply": "2020-10-01T00:12:40.920449Z"
    },
    "papermill": {
     "duration": 2.607415,
     "end_time": "2020-10-01T00:12:40.920628",
     "exception": false,
     "start_time": "2020-10-01T00:12:38.313213",
     "status": "completed"
    },
    "tags": []
   },
   "outputs": [
    {
     "name": "stdout",
     "output_type": "stream",
     "text": [
      "['have responded if were going', 'sooo sad', 'bullying me', 'leave me alone', 'sons of', 'some shameless plugging for the best rangers forum on earth', 'fun', 'soooo high', 'both of you', 'wow just became cooler', 'as much as love to be hopeful reckon the chances are minimal never gonna get my cake and stuff', 'like', 'dangerously', 'lost', 'test test from the lg env']\n"
     ]
    }
   ],
   "source": [
    "from nltk.tokenize.treebank import TreebankWordDetokenizer\n",
    "data = []\n",
    "for i in range(len(data_words)):\n",
    "    data.append(TreebankWordDetokenizer().detokenize(data_words[i]))\n",
    "print(data[:15])"
   ]
  },
  {
   "cell_type": "code",
   "execution_count": 16,
   "metadata": {
    "execution": {
     "iopub.execute_input": "2020-10-01T00:12:41.006645Z",
     "iopub.status.busy": "2020-10-01T00:12:41.005912Z",
     "iopub.status.idle": "2020-10-01T00:12:41.008744Z",
     "shell.execute_reply": "2020-10-01T00:12:41.009172Z"
    },
    "papermill": {
     "duration": 0.055716,
     "end_time": "2020-10-01T00:12:41.009306",
     "exception": false,
     "start_time": "2020-10-01T00:12:40.953590",
     "status": "completed"
    },
    "tags": []
   },
   "outputs": [],
   "source": [
    "data = np.array(data)"
   ]
  },
  {
   "cell_type": "markdown",
   "metadata": {
    "papermill": {
     "duration": 0.030582,
     "end_time": "2020-10-01T00:12:41.070729",
     "exception": false,
     "start_time": "2020-10-01T00:12:41.040147",
     "status": "completed"
    },
    "tags": []
   },
   "source": [
    "# Label encoding\n",
    "\n",
    "As the dataset is categorical, we need to convert the sentiment labels from Neutral, Negative and Positive to a float type that our model can understand. To achieve this task, we'll implement the to_categorical method from Keras."
   ]
  },
  {
   "cell_type": "code",
   "execution_count": 17,
   "metadata": {
    "execution": {
     "iopub.execute_input": "2020-10-01T00:12:41.159164Z",
     "iopub.status.busy": "2020-10-01T00:12:41.152988Z",
     "iopub.status.idle": "2020-10-01T00:12:41.162217Z",
     "shell.execute_reply": "2020-10-01T00:12:41.161787Z"
    },
    "papermill": {
     "duration": 0.060538,
     "end_time": "2020-10-01T00:12:41.162338",
     "exception": false,
     "start_time": "2020-10-01T00:12:41.101800",
     "status": "completed"
    },
    "tags": []
   },
   "outputs": [],
   "source": [
    "labels = np.array(train['sentiment'])\n",
    "y = []\n",
    "for i in range(len(labels)):\n",
    "    if labels[i] == 'neutral':\n",
    "        y.append(0)\n",
    "    if labels[i] == 'negative':\n",
    "        y.append(1)\n",
    "    if labels[i] == 'positive':\n",
    "        y.append(2)\n",
    "y = np.array(y)"
   ]
  },
  {
   "cell_type": "code",
   "execution_count": 18,
   "metadata": {
    "execution": {
     "iopub.execute_input": "2020-10-01T00:12:41.229007Z",
     "iopub.status.busy": "2020-10-01T00:12:41.228291Z",
     "iopub.status.idle": "2020-10-01T00:12:41.231497Z",
     "shell.execute_reply": "2020-10-01T00:12:41.231891Z"
    },
    "papermill": {
     "duration": 0.038976,
     "end_time": "2020-10-01T00:12:41.232001",
     "exception": false,
     "start_time": "2020-10-01T00:12:41.193025",
     "status": "completed"
    },
    "tags": []
   },
   "outputs": [
    {
     "data": {
      "text/plain": [
       "27481"
      ]
     },
     "execution_count": 18,
     "metadata": {},
     "output_type": "execute_result"
    }
   ],
   "source": [
    "len(y)"
   ]
  },
  {
   "cell_type": "code",
   "execution_count": 19,
   "metadata": {
    "execution": {
     "iopub.execute_input": "2020-10-01T00:12:41.298603Z",
     "iopub.status.busy": "2020-10-01T00:12:41.297939Z",
     "iopub.status.idle": "2020-10-01T00:12:41.302051Z",
     "shell.execute_reply": "2020-10-01T00:12:41.302452Z"
    },
    "papermill": {
     "duration": 0.039554,
     "end_time": "2020-10-01T00:12:41.302558",
     "exception": false,
     "start_time": "2020-10-01T00:12:41.263004",
     "status": "completed"
    },
    "tags": []
   },
   "outputs": [],
   "source": [
    "y_train = tf.keras.utils.to_categorical(y, 3, dtype=\"float32\")"
   ]
  },
  {
   "cell_type": "markdown",
   "metadata": {
    "papermill": {
     "duration": 0.030877,
     "end_time": "2020-10-01T00:12:41.364494",
     "exception": false,
     "start_time": "2020-10-01T00:12:41.333617",
     "status": "completed"
    },
    "tags": []
   },
   "source": [
    "# Data sequencing and splitting\n",
    "\n",
    "We'll implement the Keras tokenizer as well as its pad_sequences method to transform our text data into 3D float data, otherwise our neural networks won't be able to be trained on it."
   ]
  },
  {
   "cell_type": "code",
   "execution_count": 20,
   "metadata": {
    "execution": {
     "iopub.execute_input": "2020-10-01T00:12:41.433169Z",
     "iopub.status.busy": "2020-10-01T00:12:41.432417Z",
     "iopub.status.idle": "2020-10-01T00:12:42.472292Z",
     "shell.execute_reply": "2020-10-01T00:12:42.473546Z"
    },
    "papermill": {
     "duration": 1.078289,
     "end_time": "2020-10-01T00:12:42.473780",
     "exception": false,
     "start_time": "2020-10-01T00:12:41.395491",
     "status": "completed"
    },
    "tags": []
   },
   "outputs": [
    {
     "name": "stdout",
     "output_type": "stream",
     "text": [
      "[[   0    0    0 ...   68  145   41]\n",
      " [   0    0    0 ...    0  399   65]\n",
      " [   0    0    0 ...    0    0   11]\n",
      " ...\n",
      " [   0    0    0 ...  373   10    3]\n",
      " [   0    0    0 ...   24  540    4]\n",
      " [   0    0    0 ... 2401  197  651]]\n"
     ]
    }
   ],
   "source": [
    "from keras.models import Sequential\n",
    "from keras import layers\n",
    "from keras.optimizers import RMSprop,Adam\n",
    "from keras.preprocessing.text import Tokenizer\n",
    "from keras.preprocessing.sequence import pad_sequences\n",
    "from keras import regularizers\n",
    "from keras import backend as K\n",
    "from keras.callbacks import ModelCheckpoint\n",
    "max_words = 5000\n",
    "max_len = 200\n",
    "\n",
    "tokenizer = Tokenizer(num_words=max_words)\n",
    "tokenizer.fit_on_texts(data)\n",
    "sequences = tokenizer.texts_to_sequences(data)\n",
    "tweets = pad_sequences(sequences, maxlen=max_len)\n",
    "print(tweets)"
   ]
  },
  {
   "cell_type": "code",
   "execution_count": 21,
   "metadata": {
    "execution": {
     "iopub.execute_input": "2020-10-01T00:12:42.608590Z",
     "iopub.status.busy": "2020-10-01T00:12:42.607773Z",
     "iopub.status.idle": "2020-10-01T00:12:42.611310Z",
     "shell.execute_reply": "2020-10-01T00:12:42.609274Z"
    },
    "papermill": {
     "duration": 0.068017,
     "end_time": "2020-10-01T00:12:42.611437",
     "exception": false,
     "start_time": "2020-10-01T00:12:42.543420",
     "status": "completed"
    },
    "tags": []
   },
   "outputs": [
    {
     "name": "stdout",
     "output_type": "stream",
     "text": [
      "[[1. 0. 0.]\n",
      " [0. 1. 0.]\n",
      " [0. 1. 0.]\n",
      " ...\n",
      " [0. 0. 1.]\n",
      " [0. 0. 1.]\n",
      " [1. 0. 0.]]\n"
     ]
    }
   ],
   "source": [
    "print(y_train)"
   ]
  },
  {
   "cell_type": "code",
   "execution_count": 22,
   "metadata": {
    "execution": {
     "iopub.execute_input": "2020-10-01T00:12:42.735580Z",
     "iopub.status.busy": "2020-10-01T00:12:42.731234Z",
     "iopub.status.idle": "2020-10-01T00:12:42.746352Z",
     "shell.execute_reply": "2020-10-01T00:12:42.745890Z"
    },
    "papermill": {
     "duration": 0.085721,
     "end_time": "2020-10-01T00:12:42.746451",
     "exception": false,
     "start_time": "2020-10-01T00:12:42.660730",
     "status": "completed"
    },
    "tags": []
   },
   "outputs": [
    {
     "name": "stdout",
     "output_type": "stream",
     "text": [
      "20610 6871 20610 6871\n"
     ]
    }
   ],
   "source": [
    "#Splitting the data\n",
    "X_train, X_test, y_train, y_test = train_test_split(tweets,y_train, random_state=0)\n",
    "print (len(X_train),len(X_test),len(y_train),len(y_test))"
   ]
  },
  {
   "cell_type": "markdown",
   "metadata": {
    "papermill": {
     "duration": 0.056301,
     "end_time": "2020-10-01T00:12:42.836210",
     "exception": false,
     "start_time": "2020-10-01T00:12:42.779909",
     "status": "completed"
    },
    "tags": []
   },
   "source": [
    "# Model building\n",
    "\n",
    "Alright, in the next cells I'll guide you through the process of building 3 Recurrent Neural Networks. I'll implement sequential models from the Keras API to achieve this task. Essentially, I'll start with a single layer **LSTM** network which is known by achieving good results in NLP tasks when the dataset is relatively small (I could have started with a SimpleRNN which is even simpler, but to be honest it's actually not deployed in production environments because it is too simple - however I'll leave it commented in case you want to know it's built). The next one will be a Bidirectional LSTM model, a more complex one and this particular one is known to achieve great metrics when talking about text classification. To go beyond the classic NLP approach, finally we'll implement a very unusual model: a Convolutional 1D network, known as well by delivering good metrics when talking about NLP. If everything goes ok, we should get the best results with the BidRNN, let's see what happens.\n",
    "\n",
    "Let's get hands on:"
   ]
  },
  {
   "cell_type": "markdown",
   "metadata": {
    "papermill": {
     "duration": 0.050029,
     "end_time": "2020-10-01T00:12:42.934612",
     "exception": false,
     "start_time": "2020-10-01T00:12:42.884583",
     "status": "completed"
    },
    "tags": []
   },
   "source": [
    "## SimpleRNN model (Bonus)"
   ]
  },
  {
   "cell_type": "code",
   "execution_count": 23,
   "metadata": {
    "execution": {
     "iopub.execute_input": "2020-10-01T00:12:43.050153Z",
     "iopub.status.busy": "2020-10-01T00:12:43.046049Z",
     "iopub.status.idle": "2020-10-01T00:12:43.053743Z",
     "shell.execute_reply": "2020-10-01T00:12:43.050750Z"
    },
    "papermill": {
     "duration": 0.069169,
     "end_time": "2020-10-01T00:12:43.053898",
     "exception": false,
     "start_time": "2020-10-01T00:12:42.984729",
     "status": "completed"
    },
    "tags": []
   },
   "outputs": [],
   "source": [
    "#model0 = Sequential()\n",
    "#model0.add(layers.Embedding(max_words, 15))\n",
    "#model0.add(layers.SimpleRNN(15))\n",
    "#model0.add(layers.Dense(3,activation='softmax'))\n",
    "\n",
    "\n",
    "#model0.compile(optimizer='rmsprop',loss='categorical_crossentropy', metrics=['accuracy'])\n",
    "#Implementing model checkpoins to save the best metric and do not lose it on training.\n",
    "#checkpoint0 = ModelCheckpoint(\"best_model0.hdf5\", monitor='val_accuracy', verbose=1,save_best_only=True, mode='auto', period=1,save_weights_only=False)\n",
    "#history = model0.fit(X_train, y_train, epochs=5,validation_data=(X_test, y_test),callbacks=[checkpoint0])"
   ]
  },
  {
   "cell_type": "code",
   "execution_count": 24,
   "metadata": {
    "execution": {
     "iopub.execute_input": "2020-10-01T00:12:43.155764Z",
     "iopub.status.busy": "2020-10-01T00:12:43.155134Z",
     "iopub.status.idle": "2020-10-01T00:21:28.035324Z",
     "shell.execute_reply": "2020-10-01T00:21:28.034856Z"
    },
    "papermill": {
     "duration": 524.92041,
     "end_time": "2020-10-01T00:21:28.035434",
     "exception": false,
     "start_time": "2020-10-01T00:12:43.115024",
     "status": "completed"
    },
    "tags": []
   },
   "outputs": [
    {
     "name": "stdout",
     "output_type": "stream",
     "text": [
      "Epoch 1/70\n",
      "645/645 [==============================] - ETA: 0s - loss: 0.8331 - accuracy: 0.6236\n",
      "Epoch 00001: val_accuracy improved from -inf to 0.69844, saving model to best_model1.hdf5\n",
      "645/645 [==============================] - 8s 12ms/step - loss: 0.8331 - accuracy: 0.6236 - val_loss: 0.7198 - val_accuracy: 0.6984\n",
      "Epoch 2/70\n",
      "644/645 [============================>.] - ETA: 0s - loss: 0.6485 - accuracy: 0.7416\n",
      "Epoch 00002: val_accuracy improved from 0.69844 to 0.75360, saving model to best_model1.hdf5\n",
      "645/645 [==============================] - 8s 12ms/step - loss: 0.6485 - accuracy: 0.7416 - val_loss: 0.6036 - val_accuracy: 0.7536\n",
      "Epoch 3/70\n",
      "644/645 [============================>.] - ETA: 0s - loss: 0.5600 - accuracy: 0.7767\n",
      "Epoch 00003: val_accuracy improved from 0.75360 to 0.79130, saving model to best_model1.hdf5\n",
      "645/645 [==============================] - 7s 11ms/step - loss: 0.5599 - accuracy: 0.7768 - val_loss: 0.5326 - val_accuracy: 0.7913\n",
      "Epoch 4/70\n",
      "641/645 [============================>.] - ETA: 0s - loss: 0.5143 - accuracy: 0.8003\n",
      "Epoch 00004: val_accuracy improved from 0.79130 to 0.79886, saving model to best_model1.hdf5\n",
      "645/645 [==============================] - 7s 11ms/step - loss: 0.5137 - accuracy: 0.8003 - val_loss: 0.5133 - val_accuracy: 0.7989\n",
      "Epoch 5/70\n",
      "641/645 [============================>.] - ETA: 0s - loss: 0.4850 - accuracy: 0.8141\n",
      "Epoch 00005: val_accuracy improved from 0.79886 to 0.81051, saving model to best_model1.hdf5\n",
      "645/645 [==============================] - 7s 11ms/step - loss: 0.4855 - accuracy: 0.8139 - val_loss: 0.4880 - val_accuracy: 0.8105\n",
      "Epoch 6/70\n",
      "645/645 [==============================] - ETA: 0s - loss: 0.4712 - accuracy: 0.8205\n",
      "Epoch 00006: val_accuracy improved from 0.81051 to 0.81648, saving model to best_model1.hdf5\n",
      "645/645 [==============================] - 7s 11ms/step - loss: 0.4712 - accuracy: 0.8205 - val_loss: 0.4767 - val_accuracy: 0.8165\n",
      "Epoch 7/70\n",
      "645/645 [==============================] - ETA: 0s - loss: 0.4548 - accuracy: 0.8279\n",
      "Epoch 00007: val_accuracy improved from 0.81648 to 0.81706, saving model to best_model1.hdf5\n",
      "645/645 [==============================] - 7s 11ms/step - loss: 0.4548 - accuracy: 0.8279 - val_loss: 0.4711 - val_accuracy: 0.8171\n",
      "Epoch 8/70\n",
      "645/645 [==============================] - ETA: 0s - loss: 0.4418 - accuracy: 0.8320\n",
      "Epoch 00008: val_accuracy improved from 0.81706 to 0.82099, saving model to best_model1.hdf5\n",
      "645/645 [==============================] - 7s 12ms/step - loss: 0.4418 - accuracy: 0.8320 - val_loss: 0.4662 - val_accuracy: 0.8210\n",
      "Epoch 9/70\n",
      "641/645 [============================>.] - ETA: 0s - loss: 0.4323 - accuracy: 0.8334\n",
      "Epoch 00009: val_accuracy improved from 0.82099 to 0.82463, saving model to best_model1.hdf5\n",
      "645/645 [==============================] - 7s 11ms/step - loss: 0.4320 - accuracy: 0.8335 - val_loss: 0.4606 - val_accuracy: 0.8246\n",
      "Epoch 10/70\n",
      "643/645 [============================>.] - ETA: 0s - loss: 0.4247 - accuracy: 0.8403\n",
      "Epoch 00010: val_accuracy improved from 0.82463 to 0.82652, saving model to best_model1.hdf5\n",
      "645/645 [==============================] - 8s 12ms/step - loss: 0.4250 - accuracy: 0.8402 - val_loss: 0.4593 - val_accuracy: 0.8265\n",
      "Epoch 11/70\n",
      "641/645 [============================>.] - ETA: 0s - loss: 0.4194 - accuracy: 0.8419\n",
      "Epoch 00011: val_accuracy did not improve from 0.82652\n",
      "645/645 [==============================] - 7s 12ms/step - loss: 0.4190 - accuracy: 0.8421 - val_loss: 0.4570 - val_accuracy: 0.8254\n",
      "Epoch 12/70\n",
      "640/645 [============================>.] - ETA: 0s - loss: 0.4126 - accuracy: 0.8425\n",
      "Epoch 00012: val_accuracy did not improve from 0.82652\n",
      "645/645 [==============================] - 7s 11ms/step - loss: 0.4124 - accuracy: 0.8426 - val_loss: 0.4544 - val_accuracy: 0.8251\n",
      "Epoch 13/70\n",
      "645/645 [==============================] - ETA: 0s - loss: 0.4046 - accuracy: 0.8477\n",
      "Epoch 00013: val_accuracy improved from 0.82652 to 0.82797, saving model to best_model1.hdf5\n",
      "645/645 [==============================] - 8s 12ms/step - loss: 0.4046 - accuracy: 0.8477 - val_loss: 0.4488 - val_accuracy: 0.8280\n",
      "Epoch 14/70\n",
      "641/645 [============================>.] - ETA: 0s - loss: 0.4015 - accuracy: 0.8486\n",
      "Epoch 00014: val_accuracy improved from 0.82797 to 0.83001, saving model to best_model1.hdf5\n",
      "645/645 [==============================] - 7s 11ms/step - loss: 0.4014 - accuracy: 0.8488 - val_loss: 0.4455 - val_accuracy: 0.8300\n",
      "Epoch 15/70\n",
      "642/645 [============================>.] - ETA: 0s - loss: 0.3969 - accuracy: 0.8521\n",
      "Epoch 00015: val_accuracy did not improve from 0.83001\n",
      "645/645 [==============================] - 7s 11ms/step - loss: 0.3969 - accuracy: 0.8522 - val_loss: 0.4481 - val_accuracy: 0.8296\n",
      "Epoch 16/70\n",
      "643/645 [============================>.] - ETA: 0s - loss: 0.3918 - accuracy: 0.8553\n",
      "Epoch 00016: val_accuracy did not improve from 0.83001\n",
      "645/645 [==============================] - 7s 11ms/step - loss: 0.3921 - accuracy: 0.8551 - val_loss: 0.4387 - val_accuracy: 0.8294\n",
      "Epoch 17/70\n",
      "645/645 [==============================] - ETA: 0s - loss: 0.3867 - accuracy: 0.8551\n",
      "Epoch 00017: val_accuracy improved from 0.83001 to 0.83190, saving model to best_model1.hdf5\n",
      "645/645 [==============================] - 7s 11ms/step - loss: 0.3867 - accuracy: 0.8551 - val_loss: 0.4489 - val_accuracy: 0.8319\n",
      "Epoch 18/70\n",
      "644/645 [============================>.] - ETA: 0s - loss: 0.3854 - accuracy: 0.8581\n",
      "Epoch 00018: val_accuracy did not improve from 0.83190\n",
      "645/645 [==============================] - 8s 12ms/step - loss: 0.3854 - accuracy: 0.8581 - val_loss: 0.4432 - val_accuracy: 0.8297\n",
      "Epoch 19/70\n",
      "642/645 [============================>.] - ETA: 0s - loss: 0.3855 - accuracy: 0.8561\n",
      "Epoch 00019: val_accuracy did not improve from 0.83190\n",
      "645/645 [==============================] - 7s 11ms/step - loss: 0.3854 - accuracy: 0.8562 - val_loss: 0.4494 - val_accuracy: 0.8223\n",
      "Epoch 20/70\n",
      "644/645 [============================>.] - ETA: 0s - loss: 0.3809 - accuracy: 0.8577\n",
      "Epoch 00020: val_accuracy did not improve from 0.83190\n",
      "645/645 [==============================] - 8s 12ms/step - loss: 0.3810 - accuracy: 0.8576 - val_loss: 0.4491 - val_accuracy: 0.8277\n",
      "Epoch 21/70\n",
      "640/645 [============================>.] - ETA: 0s - loss: 0.3822 - accuracy: 0.8578\n",
      "Epoch 00021: val_accuracy did not improve from 0.83190\n",
      "645/645 [==============================] - 7s 11ms/step - loss: 0.3819 - accuracy: 0.8580 - val_loss: 0.4441 - val_accuracy: 0.8300\n",
      "Epoch 22/70\n",
      "644/645 [============================>.] - ETA: 0s - loss: 0.3788 - accuracy: 0.8586\n",
      "Epoch 00022: val_accuracy did not improve from 0.83190\n",
      "645/645 [==============================] - 8s 12ms/step - loss: 0.3789 - accuracy: 0.8586 - val_loss: 0.4472 - val_accuracy: 0.8307\n",
      "Epoch 23/70\n",
      "642/645 [============================>.] - ETA: 0s - loss: 0.3787 - accuracy: 0.8576\n",
      "Epoch 00023: val_accuracy did not improve from 0.83190\n",
      "645/645 [==============================] - 7s 11ms/step - loss: 0.3789 - accuracy: 0.8576 - val_loss: 0.4423 - val_accuracy: 0.8312\n",
      "Epoch 24/70\n",
      "643/645 [============================>.] - ETA: 0s - loss: 0.3759 - accuracy: 0.8601\n",
      "Epoch 00024: val_accuracy improved from 0.83190 to 0.83263, saving model to best_model1.hdf5\n",
      "645/645 [==============================] - 7s 11ms/step - loss: 0.3762 - accuracy: 0.8600 - val_loss: 0.4380 - val_accuracy: 0.8326\n",
      "Epoch 25/70\n",
      "643/645 [============================>.] - ETA: 0s - loss: 0.3764 - accuracy: 0.8594\n",
      "Epoch 00025: val_accuracy did not improve from 0.83263\n",
      "645/645 [==============================] - 8s 12ms/step - loss: 0.3763 - accuracy: 0.8594 - val_loss: 0.4462 - val_accuracy: 0.8300\n",
      "Epoch 26/70\n",
      "640/645 [============================>.] - ETA: 0s - loss: 0.3749 - accuracy: 0.8594\n",
      "Epoch 00026: val_accuracy did not improve from 0.83263\n",
      "645/645 [==============================] - 8s 12ms/step - loss: 0.3747 - accuracy: 0.8596 - val_loss: 0.4372 - val_accuracy: 0.8307\n",
      "Epoch 27/70\n",
      "642/645 [============================>.] - ETA: 0s - loss: 0.3713 - accuracy: 0.8612\n",
      "Epoch 00027: val_accuracy did not improve from 0.83263\n",
      "645/645 [==============================] - 7s 11ms/step - loss: 0.3715 - accuracy: 0.8611 - val_loss: 0.4485 - val_accuracy: 0.8287\n",
      "Epoch 28/70\n",
      "642/645 [============================>.] - ETA: 0s - loss: 0.3724 - accuracy: 0.8602\n",
      "Epoch 00028: val_accuracy did not improve from 0.83263\n",
      "645/645 [==============================] - 7s 11ms/step - loss: 0.3731 - accuracy: 0.8597 - val_loss: 0.4423 - val_accuracy: 0.8299\n",
      "Epoch 29/70\n",
      "642/645 [============================>.] - ETA: 0s - loss: 0.3700 - accuracy: 0.8616\n",
      "Epoch 00029: val_accuracy improved from 0.83263 to 0.83350, saving model to best_model1.hdf5\n",
      "645/645 [==============================] - 8s 12ms/step - loss: 0.3702 - accuracy: 0.8615 - val_loss: 0.4371 - val_accuracy: 0.8335\n",
      "Epoch 30/70\n",
      "641/645 [============================>.] - ETA: 0s - loss: 0.3686 - accuracy: 0.8618\n",
      "Epoch 00030: val_accuracy did not improve from 0.83350\n",
      "645/645 [==============================] - 7s 11ms/step - loss: 0.3689 - accuracy: 0.8616 - val_loss: 0.4342 - val_accuracy: 0.8331\n",
      "Epoch 31/70\n",
      "641/645 [============================>.] - ETA: 0s - loss: 0.3689 - accuracy: 0.8616\n",
      "Epoch 00031: val_accuracy did not improve from 0.83350\n",
      "645/645 [==============================] - 7s 11ms/step - loss: 0.3686 - accuracy: 0.8618 - val_loss: 0.4365 - val_accuracy: 0.8331\n",
      "Epoch 32/70\n",
      "642/645 [============================>.] - ETA: 0s - loss: 0.3639 - accuracy: 0.8650\n",
      "Epoch 00032: val_accuracy improved from 0.83350 to 0.83540, saving model to best_model1.hdf5\n",
      "645/645 [==============================] - 7s 11ms/step - loss: 0.3637 - accuracy: 0.8651 - val_loss: 0.4365 - val_accuracy: 0.8354\n",
      "Epoch 33/70\n",
      "641/645 [============================>.] - ETA: 0s - loss: 0.3638 - accuracy: 0.8636\n",
      "Epoch 00033: val_accuracy did not improve from 0.83540\n",
      "645/645 [==============================] - 7s 12ms/step - loss: 0.3637 - accuracy: 0.8638 - val_loss: 0.4375 - val_accuracy: 0.8318\n",
      "Epoch 34/70\n",
      "643/645 [============================>.] - ETA: 0s - loss: 0.3625 - accuracy: 0.8634\n",
      "Epoch 00034: val_accuracy did not improve from 0.83540\n",
      "645/645 [==============================] - 7s 11ms/step - loss: 0.3625 - accuracy: 0.8633 - val_loss: 0.4377 - val_accuracy: 0.8338\n",
      "Epoch 35/70\n",
      "645/645 [==============================] - ETA: 0s - loss: 0.3629 - accuracy: 0.8643\n",
      "Epoch 00035: val_accuracy did not improve from 0.83540\n",
      "645/645 [==============================] - 8s 12ms/step - loss: 0.3629 - accuracy: 0.8643 - val_loss: 0.4345 - val_accuracy: 0.8347\n",
      "Epoch 36/70\n",
      "641/645 [============================>.] - ETA: 0s - loss: 0.3604 - accuracy: 0.8647\n",
      "Epoch 00036: val_accuracy did not improve from 0.83540\n",
      "645/645 [==============================] - 7s 11ms/step - loss: 0.3604 - accuracy: 0.8647 - val_loss: 0.4382 - val_accuracy: 0.8312\n",
      "Epoch 37/70\n",
      "642/645 [============================>.] - ETA: 0s - loss: 0.3576 - accuracy: 0.8683\n",
      "Epoch 00037: val_accuracy did not improve from 0.83540\n",
      "645/645 [==============================] - 7s 11ms/step - loss: 0.3576 - accuracy: 0.8682 - val_loss: 0.4368 - val_accuracy: 0.8351\n",
      "Epoch 38/70\n",
      "645/645 [==============================] - ETA: 0s - loss: 0.3553 - accuracy: 0.8684\n",
      "Epoch 00038: val_accuracy did not improve from 0.83540\n",
      "645/645 [==============================] - 8s 12ms/step - loss: 0.3553 - accuracy: 0.8684 - val_loss: 0.4372 - val_accuracy: 0.8347\n",
      "Epoch 39/70\n",
      "643/645 [============================>.] - ETA: 0s - loss: 0.3579 - accuracy: 0.8657\n",
      "Epoch 00039: val_accuracy did not improve from 0.83540\n",
      "645/645 [==============================] - 7s 11ms/step - loss: 0.3578 - accuracy: 0.8657 - val_loss: 0.4324 - val_accuracy: 0.8354\n",
      "Epoch 40/70\n",
      "641/645 [============================>.] - ETA: 0s - loss: 0.3566 - accuracy: 0.8662\n",
      "Epoch 00040: val_accuracy did not improve from 0.83540\n",
      "645/645 [==============================] - 7s 11ms/step - loss: 0.3568 - accuracy: 0.8662 - val_loss: 0.4372 - val_accuracy: 0.8344\n",
      "Epoch 41/70\n",
      "645/645 [==============================] - ETA: 0s - loss: 0.3551 - accuracy: 0.8679\n",
      "Epoch 00041: val_accuracy did not improve from 0.83540\n",
      "645/645 [==============================] - 7s 11ms/step - loss: 0.3551 - accuracy: 0.8679 - val_loss: 0.4395 - val_accuracy: 0.8326\n",
      "Epoch 42/70\n",
      "643/645 [============================>.] - ETA: 0s - loss: 0.3535 - accuracy: 0.8705\n",
      "Epoch 00042: val_accuracy improved from 0.83540 to 0.83554, saving model to best_model1.hdf5\n",
      "645/645 [==============================] - 7s 12ms/step - loss: 0.3533 - accuracy: 0.8706 - val_loss: 0.4410 - val_accuracy: 0.8355\n",
      "Epoch 43/70\n",
      "645/645 [==============================] - ETA: 0s - loss: 0.3564 - accuracy: 0.8671\n",
      "Epoch 00043: val_accuracy improved from 0.83554 to 0.83641, saving model to best_model1.hdf5\n",
      "645/645 [==============================] - 8s 12ms/step - loss: 0.3564 - accuracy: 0.8671 - val_loss: 0.4355 - val_accuracy: 0.8364\n",
      "Epoch 44/70\n",
      "642/645 [============================>.] - ETA: 0s - loss: 0.3518 - accuracy: 0.8697\n",
      "Epoch 00044: val_accuracy improved from 0.83641 to 0.83656, saving model to best_model1.hdf5\n",
      "645/645 [==============================] - 7s 11ms/step - loss: 0.3520 - accuracy: 0.8696 - val_loss: 0.4404 - val_accuracy: 0.8366\n",
      "Epoch 45/70\n",
      "642/645 [============================>.] - ETA: 0s - loss: 0.3504 - accuracy: 0.8676\n",
      "Epoch 00045: val_accuracy did not improve from 0.83656\n",
      "645/645 [==============================] - 7s 11ms/step - loss: 0.3500 - accuracy: 0.8678 - val_loss: 0.4344 - val_accuracy: 0.8351\n",
      "Epoch 46/70\n",
      "643/645 [============================>.] - ETA: 0s - loss: 0.3538 - accuracy: 0.8692\n",
      "Epoch 00046: val_accuracy did not improve from 0.83656\n",
      "645/645 [==============================] - 7s 11ms/step - loss: 0.3537 - accuracy: 0.8691 - val_loss: 0.4344 - val_accuracy: 0.8351\n",
      "Epoch 47/70\n",
      "640/645 [============================>.] - ETA: 0s - loss: 0.3478 - accuracy: 0.8712\n",
      "Epoch 00047: val_accuracy did not improve from 0.83656\n",
      "645/645 [==============================] - 8s 12ms/step - loss: 0.3479 - accuracy: 0.8713 - val_loss: 0.4390 - val_accuracy: 0.8348\n",
      "Epoch 48/70\n",
      "643/645 [============================>.] - ETA: 0s - loss: 0.3471 - accuracy: 0.8710\n",
      "Epoch 00048: val_accuracy improved from 0.83656 to 0.83801, saving model to best_model1.hdf5\n",
      "645/645 [==============================] - 7s 11ms/step - loss: 0.3473 - accuracy: 0.8709 - val_loss: 0.4301 - val_accuracy: 0.8380\n",
      "Epoch 49/70\n",
      "643/645 [============================>.] - ETA: 0s - loss: 0.3475 - accuracy: 0.8723\n",
      "Epoch 00049: val_accuracy did not improve from 0.83801\n",
      "645/645 [==============================] - 7s 11ms/step - loss: 0.3476 - accuracy: 0.8721 - val_loss: 0.4395 - val_accuracy: 0.8376\n",
      "Epoch 50/70\n",
      "642/645 [============================>.] - ETA: 0s - loss: 0.3534 - accuracy: 0.8662\n",
      "Epoch 00050: val_accuracy did not improve from 0.83801\n",
      "645/645 [==============================] - 7s 11ms/step - loss: 0.3533 - accuracy: 0.8663 - val_loss: 0.4421 - val_accuracy: 0.8357\n",
      "Epoch 51/70\n",
      "643/645 [============================>.] - ETA: 0s - loss: 0.3479 - accuracy: 0.8710\n",
      "Epoch 00051: val_accuracy did not improve from 0.83801\n",
      "645/645 [==============================] - 8s 13ms/step - loss: 0.3477 - accuracy: 0.8711 - val_loss: 0.4312 - val_accuracy: 0.8374\n",
      "Epoch 52/70\n",
      "640/645 [============================>.] - ETA: 0s - loss: 0.3460 - accuracy: 0.8707\n",
      "Epoch 00052: val_accuracy did not improve from 0.83801\n",
      "645/645 [==============================] - 8s 12ms/step - loss: 0.3459 - accuracy: 0.8707 - val_loss: 0.4357 - val_accuracy: 0.8369\n",
      "Epoch 53/70\n",
      "643/645 [============================>.] - ETA: 0s - loss: 0.3412 - accuracy: 0.8728\n",
      "Epoch 00053: val_accuracy did not improve from 0.83801\n",
      "645/645 [==============================] - 7s 11ms/step - loss: 0.3415 - accuracy: 0.8727 - val_loss: 0.4367 - val_accuracy: 0.8374\n",
      "Epoch 54/70\n",
      "640/645 [============================>.] - ETA: 0s - loss: 0.3452 - accuracy: 0.8726\n",
      "Epoch 00054: val_accuracy did not improve from 0.83801\n",
      "645/645 [==============================] - 7s 11ms/step - loss: 0.3448 - accuracy: 0.8727 - val_loss: 0.4344 - val_accuracy: 0.8380\n",
      "Epoch 55/70\n",
      "644/645 [============================>.] - ETA: 0s - loss: 0.3468 - accuracy: 0.8713\n",
      "Epoch 00055: val_accuracy improved from 0.83801 to 0.83918, saving model to best_model1.hdf5\n",
      "645/645 [==============================] - 7s 11ms/step - loss: 0.3468 - accuracy: 0.8713 - val_loss: 0.4359 - val_accuracy: 0.8392\n",
      "Epoch 56/70\n",
      "644/645 [============================>.] - ETA: 0s - loss: 0.3474 - accuracy: 0.8705\n",
      "Epoch 00056: val_accuracy did not improve from 0.83918\n",
      "645/645 [==============================] - 8s 13ms/step - loss: 0.3474 - accuracy: 0.8705 - val_loss: 0.4368 - val_accuracy: 0.8369\n",
      "Epoch 57/70\n",
      "644/645 [============================>.] - ETA: 0s - loss: 0.3387 - accuracy: 0.8747\n",
      "Epoch 00057: val_accuracy did not improve from 0.83918\n",
      "645/645 [==============================] - 7s 11ms/step - loss: 0.3387 - accuracy: 0.8747 - val_loss: 0.4367 - val_accuracy: 0.8345\n",
      "Epoch 58/70\n",
      "641/645 [============================>.] - ETA: 0s - loss: 0.3433 - accuracy: 0.8728\n",
      "Epoch 00058: val_accuracy did not improve from 0.83918\n",
      "645/645 [==============================] - 7s 11ms/step - loss: 0.3437 - accuracy: 0.8727 - val_loss: 0.4357 - val_accuracy: 0.8364\n",
      "Epoch 59/70\n",
      "643/645 [============================>.] - ETA: 0s - loss: 0.3411 - accuracy: 0.8742\n",
      "Epoch 00059: val_accuracy did not improve from 0.83918\n",
      "645/645 [==============================] - 8s 12ms/step - loss: 0.3412 - accuracy: 0.8743 - val_loss: 0.4355 - val_accuracy: 0.8373\n",
      "Epoch 60/70\n",
      "644/645 [============================>.] - ETA: 0s - loss: 0.3425 - accuracy: 0.8733\n",
      "Epoch 00060: val_accuracy did not improve from 0.83918\n",
      "645/645 [==============================] - 9s 14ms/step - loss: 0.3425 - accuracy: 0.8732 - val_loss: 0.4355 - val_accuracy: 0.8370\n",
      "Epoch 61/70\n",
      "642/645 [============================>.] - ETA: 0s - loss: 0.3378 - accuracy: 0.8764\n",
      "Epoch 00061: val_accuracy did not improve from 0.83918\n",
      "645/645 [==============================] - 7s 11ms/step - loss: 0.3375 - accuracy: 0.8765 - val_loss: 0.4345 - val_accuracy: 0.8389\n",
      "Epoch 62/70\n",
      "643/645 [============================>.] - ETA: 0s - loss: 0.3361 - accuracy: 0.8775\n",
      "Epoch 00062: val_accuracy did not improve from 0.83918\n",
      "645/645 [==============================] - 7s 11ms/step - loss: 0.3359 - accuracy: 0.8775 - val_loss: 0.4382 - val_accuracy: 0.8366\n",
      "Epoch 63/70\n",
      "640/645 [============================>.] - ETA: 0s - loss: 0.3449 - accuracy: 0.8714\n",
      "Epoch 00063: val_accuracy did not improve from 0.83918\n",
      "645/645 [==============================] - 7s 11ms/step - loss: 0.3452 - accuracy: 0.8714 - val_loss: 0.4410 - val_accuracy: 0.8352\n",
      "Epoch 64/70\n",
      "643/645 [============================>.] - ETA: 0s - loss: 0.3419 - accuracy: 0.8757\n",
      "Epoch 00064: val_accuracy did not improve from 0.83918\n",
      "645/645 [==============================] - 7s 11ms/step - loss: 0.3421 - accuracy: 0.8755 - val_loss: 0.4374 - val_accuracy: 0.8363\n",
      "Epoch 65/70\n",
      "643/645 [============================>.] - ETA: 0s - loss: 0.3373 - accuracy: 0.8751\n",
      "Epoch 00065: val_accuracy did not improve from 0.83918\n",
      "645/645 [==============================] - 8s 13ms/step - loss: 0.3372 - accuracy: 0.8751 - val_loss: 0.4395 - val_accuracy: 0.8370\n",
      "Epoch 66/70\n",
      "642/645 [============================>.] - ETA: 0s - loss: 0.3375 - accuracy: 0.8761\n",
      "Epoch 00066: val_accuracy did not improve from 0.83918\n",
      "645/645 [==============================] - 7s 11ms/step - loss: 0.3375 - accuracy: 0.8761 - val_loss: 0.4436 - val_accuracy: 0.8364\n",
      "Epoch 67/70\n",
      "645/645 [==============================] - ETA: 0s - loss: 0.3372 - accuracy: 0.8758\n",
      "Epoch 00067: val_accuracy did not improve from 0.83918\n",
      "645/645 [==============================] - 7s 11ms/step - loss: 0.3372 - accuracy: 0.8758 - val_loss: 0.4378 - val_accuracy: 0.8379\n",
      "Epoch 68/70\n",
      "644/645 [============================>.] - ETA: 0s - loss: 0.3352 - accuracy: 0.8766\n",
      "Epoch 00068: val_accuracy did not improve from 0.83918\n",
      "645/645 [==============================] - 7s 11ms/step - loss: 0.3352 - accuracy: 0.8765 - val_loss: 0.4391 - val_accuracy: 0.8370\n",
      "Epoch 69/70\n",
      "644/645 [============================>.] - ETA: 0s - loss: 0.3331 - accuracy: 0.8762\n",
      "Epoch 00069: val_accuracy did not improve from 0.83918\n",
      "645/645 [==============================] - 8s 13ms/step - loss: 0.3331 - accuracy: 0.8762 - val_loss: 0.4402 - val_accuracy: 0.8374\n",
      "Epoch 70/70\n",
      "641/645 [============================>.] - ETA: 0s - loss: 0.3385 - accuracy: 0.8761\n",
      "Epoch 00070: val_accuracy did not improve from 0.83918\n",
      "645/645 [==============================] - 7s 11ms/step - loss: 0.3387 - accuracy: 0.8760 - val_loss: 0.4394 - val_accuracy: 0.8322\n"
     ]
    }
   ],
   "source": [
    "model1 = Sequential()\n",
    "model1.add(layers.Embedding(max_words, 15))\n",
    "model1.add(layers.LSTM(15,dropout=0.5))\n",
    "model1.add(layers.Dense(3,activation='softmax'))\n",
    "\n",
    "\n",
    "model1.compile(optimizer='rmsprop',loss='categorical_crossentropy', metrics=['accuracy'])\n",
    "#Implementing model checkpoins to save the best metric and do not lose it on training.\n",
    "checkpoint1 = ModelCheckpoint(\"best_model1.hdf5\", monitor='val_accuracy', verbose=1,save_best_only=True, mode='auto', period=1,save_weights_only=False)\n",
    "history = model1.fit(X_train, y_train, epochs=70,validation_data=(X_test, y_test),callbacks=[checkpoint1])"
   ]
  },
  {
   "cell_type": "markdown",
   "metadata": {
    "papermill": {
     "duration": 2.348053,
     "end_time": "2020-10-01T00:21:32.974467",
     "exception": false,
     "start_time": "2020-10-01T00:21:30.626414",
     "status": "completed"
    },
    "tags": []
   },
   "source": [
    "## Bidirectional LTSM model"
   ]
  },
  {
   "cell_type": "code",
   "execution_count": 25,
   "metadata": {
    "execution": {
     "iopub.execute_input": "2020-10-01T00:21:37.632694Z",
     "iopub.status.busy": "2020-10-01T00:21:37.631560Z",
     "iopub.status.idle": "2020-10-01T00:36:23.410752Z",
     "shell.execute_reply": "2020-10-01T00:36:23.411175Z"
    },
    "papermill": {
     "duration": 888.114202,
     "end_time": "2020-10-01T00:36:23.411342",
     "exception": false,
     "start_time": "2020-10-01T00:21:35.297140",
     "status": "completed"
    },
    "tags": []
   },
   "outputs": [
    {
     "name": "stdout",
     "output_type": "stream",
     "text": [
      "Epoch 1/70\n",
      "645/645 [==============================] - ETA: 0s - loss: 0.8412 - accuracy: 0.6124\n",
      "Epoch 00001: val_accuracy improved from -inf to 0.69801, saving model to best_model2.hdf5\n",
      "645/645 [==============================] - 13s 20ms/step - loss: 0.8412 - accuracy: 0.6124 - val_loss: 0.7120 - val_accuracy: 0.6980\n",
      "Epoch 2/70\n",
      "645/645 [==============================] - ETA: 0s - loss: 0.6361 - accuracy: 0.7444\n",
      "Epoch 00002: val_accuracy improved from 0.69801 to 0.77863, saving model to best_model2.hdf5\n",
      "645/645 [==============================] - 12s 19ms/step - loss: 0.6361 - accuracy: 0.7444 - val_loss: 0.5682 - val_accuracy: 0.7786\n",
      "Epoch 3/70\n",
      "644/645 [============================>.] - ETA: 0s - loss: 0.5459 - accuracy: 0.7856\n",
      "Epoch 00003: val_accuracy improved from 0.77863 to 0.79683, saving model to best_model2.hdf5\n",
      "645/645 [==============================] - 13s 21ms/step - loss: 0.5458 - accuracy: 0.7856 - val_loss: 0.5209 - val_accuracy: 0.7968\n",
      "Epoch 4/70\n",
      "642/645 [============================>.] - ETA: 0s - loss: 0.5174 - accuracy: 0.7986\n",
      "Epoch 00004: val_accuracy improved from 0.79683 to 0.80396, saving model to best_model2.hdf5\n",
      "645/645 [==============================] - 12s 18ms/step - loss: 0.5176 - accuracy: 0.7985 - val_loss: 0.5035 - val_accuracy: 0.8040\n",
      "Epoch 5/70\n",
      "644/645 [============================>.] - ETA: 0s - loss: 0.4901 - accuracy: 0.8104\n",
      "Epoch 00005: val_accuracy improved from 0.80396 to 0.81531, saving model to best_model2.hdf5\n",
      "645/645 [==============================] - 12s 18ms/step - loss: 0.4901 - accuracy: 0.8104 - val_loss: 0.4876 - val_accuracy: 0.8153\n",
      "Epoch 6/70\n",
      "642/645 [============================>.] - ETA: 0s - loss: 0.4758 - accuracy: 0.8165\n",
      "Epoch 00006: val_accuracy did not improve from 0.81531\n",
      "645/645 [==============================] - 13s 20ms/step - loss: 0.4755 - accuracy: 0.8166 - val_loss: 0.4819 - val_accuracy: 0.8114\n",
      "Epoch 7/70\n",
      "642/645 [============================>.] - ETA: 0s - loss: 0.4629 - accuracy: 0.8221\n",
      "Epoch 00007: val_accuracy improved from 0.81531 to 0.81749, saving model to best_model2.hdf5\n",
      "645/645 [==============================] - 13s 19ms/step - loss: 0.4634 - accuracy: 0.8216 - val_loss: 0.4768 - val_accuracy: 0.8175\n",
      "Epoch 8/70\n",
      "645/645 [==============================] - ETA: 0s - loss: 0.4487 - accuracy: 0.8285\n",
      "Epoch 00008: val_accuracy improved from 0.81749 to 0.82186, saving model to best_model2.hdf5\n",
      "645/645 [==============================] - 13s 20ms/step - loss: 0.4487 - accuracy: 0.8285 - val_loss: 0.4640 - val_accuracy: 0.8219\n",
      "Epoch 9/70\n",
      "642/645 [============================>.] - ETA: 0s - loss: 0.4398 - accuracy: 0.8329\n",
      "Epoch 00009: val_accuracy did not improve from 0.82186\n",
      "645/645 [==============================] - 12s 19ms/step - loss: 0.4396 - accuracy: 0.8332 - val_loss: 0.4656 - val_accuracy: 0.8217\n",
      "Epoch 10/70\n",
      "643/645 [============================>.] - ETA: 0s - loss: 0.4323 - accuracy: 0.8341\n",
      "Epoch 00010: val_accuracy improved from 0.82186 to 0.82317, saving model to best_model2.hdf5\n",
      "645/645 [==============================] - 12s 18ms/step - loss: 0.4322 - accuracy: 0.8342 - val_loss: 0.4578 - val_accuracy: 0.8232\n",
      "Epoch 11/70\n",
      "644/645 [============================>.] - ETA: 0s - loss: 0.4294 - accuracy: 0.8368\n",
      "Epoch 00011: val_accuracy improved from 0.82317 to 0.82433, saving model to best_model2.hdf5\n",
      "645/645 [==============================] - 14s 21ms/step - loss: 0.4293 - accuracy: 0.8368 - val_loss: 0.4559 - val_accuracy: 0.8243\n",
      "Epoch 12/70\n",
      "644/645 [============================>.] - ETA: 0s - loss: 0.4226 - accuracy: 0.8423\n",
      "Epoch 00012: val_accuracy improved from 0.82433 to 0.82870, saving model to best_model2.hdf5\n",
      "645/645 [==============================] - 12s 19ms/step - loss: 0.4225 - accuracy: 0.8424 - val_loss: 0.4455 - val_accuracy: 0.8287\n",
      "Epoch 13/70\n",
      "643/645 [============================>.] - ETA: 0s - loss: 0.4143 - accuracy: 0.8440\n",
      "Epoch 00013: val_accuracy did not improve from 0.82870\n",
      "645/645 [==============================] - 12s 19ms/step - loss: 0.4141 - accuracy: 0.8439 - val_loss: 0.4450 - val_accuracy: 0.8284\n",
      "Epoch 14/70\n",
      "644/645 [============================>.] - ETA: 0s - loss: 0.4099 - accuracy: 0.8447\n",
      "Epoch 00014: val_accuracy did not improve from 0.82870\n",
      "645/645 [==============================] - 14s 21ms/step - loss: 0.4100 - accuracy: 0.8447 - val_loss: 0.4462 - val_accuracy: 0.8240\n",
      "Epoch 15/70\n",
      "642/645 [============================>.] - ETA: 0s - loss: 0.4019 - accuracy: 0.8500\n",
      "Epoch 00015: val_accuracy did not improve from 0.82870\n",
      "645/645 [==============================] - 12s 18ms/step - loss: 0.4021 - accuracy: 0.8499 - val_loss: 0.4431 - val_accuracy: 0.8280\n",
      "Epoch 16/70\n",
      "642/645 [============================>.] - ETA: 0s - loss: 0.3998 - accuracy: 0.8496\n",
      "Epoch 00016: val_accuracy did not improve from 0.82870\n",
      "645/645 [==============================] - 12s 19ms/step - loss: 0.3994 - accuracy: 0.8496 - val_loss: 0.4477 - val_accuracy: 0.8284\n",
      "Epoch 17/70\n",
      "644/645 [============================>.] - ETA: 0s - loss: 0.3978 - accuracy: 0.8519\n",
      "Epoch 00017: val_accuracy did not improve from 0.82870\n",
      "645/645 [==============================] - 14s 21ms/step - loss: 0.3978 - accuracy: 0.8519 - val_loss: 0.4464 - val_accuracy: 0.8287\n",
      "Epoch 18/70\n",
      "643/645 [============================>.] - ETA: 0s - loss: 0.3953 - accuracy: 0.8529\n",
      "Epoch 00018: val_accuracy did not improve from 0.82870\n",
      "645/645 [==============================] - 12s 19ms/step - loss: 0.3951 - accuracy: 0.8529 - val_loss: 0.4431 - val_accuracy: 0.8275\n",
      "Epoch 19/70\n",
      "644/645 [============================>.] - ETA: 0s - loss: 0.3892 - accuracy: 0.8529\n",
      "Epoch 00019: val_accuracy did not improve from 0.82870\n",
      "645/645 [==============================] - 12s 18ms/step - loss: 0.3892 - accuracy: 0.8529 - val_loss: 0.4468 - val_accuracy: 0.8277\n",
      "Epoch 20/70\n",
      "643/645 [============================>.] - ETA: 0s - loss: 0.3887 - accuracy: 0.8553\n",
      "Epoch 00020: val_accuracy improved from 0.82870 to 0.83409, saving model to best_model2.hdf5\n",
      "645/645 [==============================] - 14s 21ms/step - loss: 0.3892 - accuracy: 0.8551 - val_loss: 0.4339 - val_accuracy: 0.8341\n",
      "Epoch 21/70\n",
      "644/645 [============================>.] - ETA: 0s - loss: 0.3854 - accuracy: 0.8562\n",
      "Epoch 00021: val_accuracy did not improve from 0.83409\n",
      "645/645 [==============================] - 13s 20ms/step - loss: 0.3854 - accuracy: 0.8562 - val_loss: 0.4367 - val_accuracy: 0.8334\n",
      "Epoch 22/70\n",
      "645/645 [==============================] - ETA: 0s - loss: 0.3810 - accuracy: 0.8562\n",
      "Epoch 00022: val_accuracy did not improve from 0.83409\n",
      "645/645 [==============================] - 12s 19ms/step - loss: 0.3810 - accuracy: 0.8562 - val_loss: 0.4333 - val_accuracy: 0.8341\n",
      "Epoch 23/70\n",
      "642/645 [============================>.] - ETA: 0s - loss: 0.3824 - accuracy: 0.8555\n",
      "Epoch 00023: val_accuracy did not improve from 0.83409\n",
      "645/645 [==============================] - 14s 21ms/step - loss: 0.3830 - accuracy: 0.8553 - val_loss: 0.4395 - val_accuracy: 0.8320\n",
      "Epoch 24/70\n",
      "644/645 [============================>.] - ETA: 0s - loss: 0.3820 - accuracy: 0.8584\n",
      "Epoch 00024: val_accuracy improved from 0.83409 to 0.83481, saving model to best_model2.hdf5\n",
      "645/645 [==============================] - 12s 18ms/step - loss: 0.3820 - accuracy: 0.8584 - val_loss: 0.4357 - val_accuracy: 0.8348\n",
      "Epoch 25/70\n",
      "645/645 [==============================] - ETA: 0s - loss: 0.3796 - accuracy: 0.8574\n",
      "Epoch 00025: val_accuracy did not improve from 0.83481\n",
      "645/645 [==============================] - 13s 20ms/step - loss: 0.3796 - accuracy: 0.8574 - val_loss: 0.4367 - val_accuracy: 0.8332\n",
      "Epoch 26/70\n",
      "643/645 [============================>.] - ETA: 0s - loss: 0.3800 - accuracy: 0.8590\n",
      "Epoch 00026: val_accuracy did not improve from 0.83481\n",
      "645/645 [==============================] - 14s 22ms/step - loss: 0.3799 - accuracy: 0.8590 - val_loss: 0.4440 - val_accuracy: 0.8326\n",
      "Epoch 27/70\n",
      "642/645 [============================>.] - ETA: 0s - loss: 0.3787 - accuracy: 0.8580\n",
      "Epoch 00027: val_accuracy did not improve from 0.83481\n",
      "645/645 [==============================] - 12s 18ms/step - loss: 0.3782 - accuracy: 0.8582 - val_loss: 0.4421 - val_accuracy: 0.8336\n",
      "Epoch 28/70\n",
      "643/645 [============================>.] - ETA: 0s - loss: 0.3752 - accuracy: 0.8601\n",
      "Epoch 00028: val_accuracy did not improve from 0.83481\n",
      "645/645 [==============================] - 12s 19ms/step - loss: 0.3753 - accuracy: 0.8601 - val_loss: 0.4393 - val_accuracy: 0.8336\n",
      "Epoch 29/70\n",
      "645/645 [==============================] - ETA: 0s - loss: 0.3779 - accuracy: 0.8602\n",
      "Epoch 00029: val_accuracy did not improve from 0.83481\n",
      "645/645 [==============================] - 12s 18ms/step - loss: 0.3779 - accuracy: 0.8602 - val_loss: 0.4373 - val_accuracy: 0.8329\n",
      "Epoch 30/70\n",
      "645/645 [==============================] - ETA: 0s - loss: 0.3750 - accuracy: 0.8592\n",
      "Epoch 00030: val_accuracy did not improve from 0.83481\n",
      "645/645 [==============================] - 12s 18ms/step - loss: 0.3750 - accuracy: 0.8592 - val_loss: 0.4375 - val_accuracy: 0.8338\n",
      "Epoch 31/70\n",
      "642/645 [============================>.] - ETA: 0s - loss: 0.3745 - accuracy: 0.8600\n",
      "Epoch 00031: val_accuracy improved from 0.83481 to 0.83612, saving model to best_model2.hdf5\n",
      "645/645 [==============================] - 15s 23ms/step - loss: 0.3748 - accuracy: 0.8599 - val_loss: 0.4355 - val_accuracy: 0.8361\n",
      "Epoch 32/70\n",
      "642/645 [============================>.] - ETA: 0s - loss: 0.3704 - accuracy: 0.8608\n",
      "Epoch 00032: val_accuracy improved from 0.83612 to 0.83700, saving model to best_model2.hdf5\n",
      "645/645 [==============================] - 12s 18ms/step - loss: 0.3710 - accuracy: 0.8606 - val_loss: 0.4302 - val_accuracy: 0.8370\n",
      "Epoch 33/70\n",
      "643/645 [============================>.] - ETA: 0s - loss: 0.3683 - accuracy: 0.8628\n",
      "Epoch 00033: val_accuracy did not improve from 0.83700\n",
      "645/645 [==============================] - 12s 19ms/step - loss: 0.3683 - accuracy: 0.8628 - val_loss: 0.4406 - val_accuracy: 0.8360\n",
      "Epoch 34/70\n",
      "643/645 [============================>.] - ETA: 0s - loss: 0.3707 - accuracy: 0.8616\n",
      "Epoch 00034: val_accuracy improved from 0.83700 to 0.83889, saving model to best_model2.hdf5\n",
      "645/645 [==============================] - 12s 19ms/step - loss: 0.3707 - accuracy: 0.8617 - val_loss: 0.4353 - val_accuracy: 0.8389\n",
      "Epoch 35/70\n",
      "645/645 [==============================] - ETA: 0s - loss: 0.3678 - accuracy: 0.8607\n",
      "Epoch 00035: val_accuracy did not improve from 0.83889\n",
      "645/645 [==============================] - 12s 19ms/step - loss: 0.3678 - accuracy: 0.8607 - val_loss: 0.4344 - val_accuracy: 0.8389\n",
      "Epoch 36/70\n",
      "644/645 [============================>.] - ETA: 0s - loss: 0.3692 - accuracy: 0.8613\n",
      "Epoch 00036: val_accuracy did not improve from 0.83889\n",
      "645/645 [==============================] - 14s 22ms/step - loss: 0.3693 - accuracy: 0.8613 - val_loss: 0.4335 - val_accuracy: 0.8386\n",
      "Epoch 37/70\n",
      "643/645 [============================>.] - ETA: 0s - loss: 0.3708 - accuracy: 0.8602\n",
      "Epoch 00037: val_accuracy did not improve from 0.83889\n",
      "645/645 [==============================] - 12s 19ms/step - loss: 0.3706 - accuracy: 0.8602 - val_loss: 0.4391 - val_accuracy: 0.8364\n",
      "Epoch 38/70\n",
      "643/645 [============================>.] - ETA: 0s - loss: 0.3673 - accuracy: 0.8623\n",
      "Epoch 00038: val_accuracy did not improve from 0.83889\n",
      "645/645 [==============================] - 12s 19ms/step - loss: 0.3672 - accuracy: 0.8622 - val_loss: 0.4324 - val_accuracy: 0.8361\n",
      "Epoch 39/70\n",
      "644/645 [============================>.] - ETA: 0s - loss: 0.3670 - accuracy: 0.8645\n",
      "Epoch 00039: val_accuracy did not improve from 0.83889\n",
      "645/645 [==============================] - 12s 19ms/step - loss: 0.3671 - accuracy: 0.8645 - val_loss: 0.4312 - val_accuracy: 0.8369\n",
      "Epoch 40/70\n",
      "645/645 [==============================] - ETA: 0s - loss: 0.3639 - accuracy: 0.8660\n",
      "Epoch 00040: val_accuracy did not improve from 0.83889\n",
      "645/645 [==============================] - 12s 19ms/step - loss: 0.3639 - accuracy: 0.8660 - val_loss: 0.4327 - val_accuracy: 0.8374\n",
      "Epoch 41/70\n",
      "642/645 [============================>.] - ETA: 0s - loss: 0.3624 - accuracy: 0.8653\n",
      "Epoch 00041: val_accuracy improved from 0.83889 to 0.83991, saving model to best_model2.hdf5\n",
      "645/645 [==============================] - 12s 19ms/step - loss: 0.3621 - accuracy: 0.8653 - val_loss: 0.4337 - val_accuracy: 0.8399\n",
      "Epoch 42/70\n",
      "642/645 [============================>.] - ETA: 0s - loss: 0.3619 - accuracy: 0.8645\n",
      "Epoch 00042: val_accuracy did not improve from 0.83991\n",
      "645/645 [==============================] - 14s 22ms/step - loss: 0.3621 - accuracy: 0.8644 - val_loss: 0.4338 - val_accuracy: 0.8355\n",
      "Epoch 43/70\n",
      "644/645 [============================>.] - ETA: 0s - loss: 0.3616 - accuracy: 0.8639\n",
      "Epoch 00043: val_accuracy did not improve from 0.83991\n",
      "645/645 [==============================] - 12s 19ms/step - loss: 0.3617 - accuracy: 0.8639 - val_loss: 0.4373 - val_accuracy: 0.8331\n",
      "Epoch 44/70\n",
      "643/645 [============================>.] - ETA: 0s - loss: 0.3593 - accuracy: 0.8645\n",
      "Epoch 00044: val_accuracy did not improve from 0.83991\n",
      "645/645 [==============================] - 12s 18ms/step - loss: 0.3595 - accuracy: 0.8644 - val_loss: 0.4316 - val_accuracy: 0.8367\n",
      "Epoch 45/70\n",
      "645/645 [==============================] - ETA: 0s - loss: 0.3567 - accuracy: 0.8690\n",
      "Epoch 00045: val_accuracy did not improve from 0.83991\n",
      "645/645 [==============================] - 12s 19ms/step - loss: 0.3567 - accuracy: 0.8690 - val_loss: 0.4385 - val_accuracy: 0.8363\n",
      "Epoch 46/70\n",
      "644/645 [============================>.] - ETA: 0s - loss: 0.3587 - accuracy: 0.8647\n",
      "Epoch 00046: val_accuracy did not improve from 0.83991\n",
      "645/645 [==============================] - 12s 19ms/step - loss: 0.3587 - accuracy: 0.8646 - val_loss: 0.4319 - val_accuracy: 0.8379\n",
      "Epoch 47/70\n",
      "643/645 [============================>.] - ETA: 0s - loss: 0.3582 - accuracy: 0.8667\n",
      "Epoch 00047: val_accuracy did not improve from 0.83991\n",
      "645/645 [==============================] - 14s 22ms/step - loss: 0.3586 - accuracy: 0.8666 - val_loss: 0.4327 - val_accuracy: 0.8377\n",
      "Epoch 48/70\n",
      "643/645 [============================>.] - ETA: 0s - loss: 0.3560 - accuracy: 0.8687\n",
      "Epoch 00048: val_accuracy did not improve from 0.83991\n",
      "645/645 [==============================] - 12s 19ms/step - loss: 0.3561 - accuracy: 0.8687 - val_loss: 0.4345 - val_accuracy: 0.8395\n",
      "Epoch 49/70\n",
      "645/645 [==============================] - ETA: 0s - loss: 0.3581 - accuracy: 0.8674\n",
      "Epoch 00049: val_accuracy did not improve from 0.83991\n",
      "645/645 [==============================] - 12s 18ms/step - loss: 0.3581 - accuracy: 0.8674 - val_loss: 0.4396 - val_accuracy: 0.8338\n",
      "Epoch 50/70\n",
      "645/645 [==============================] - ETA: 0s - loss: 0.3564 - accuracy: 0.8671\n",
      "Epoch 00050: val_accuracy did not improve from 0.83991\n",
      "645/645 [==============================] - 12s 19ms/step - loss: 0.3564 - accuracy: 0.8671 - val_loss: 0.4328 - val_accuracy: 0.8398\n",
      "Epoch 51/70\n",
      "644/645 [============================>.] - ETA: 0s - loss: 0.3585 - accuracy: 0.8669\n",
      "Epoch 00051: val_accuracy did not improve from 0.83991\n",
      "645/645 [==============================] - 12s 19ms/step - loss: 0.3585 - accuracy: 0.8669 - val_loss: 0.4319 - val_accuracy: 0.8396\n",
      "Epoch 52/70\n",
      "642/645 [============================>.] - ETA: 0s - loss: 0.3568 - accuracy: 0.8657\n",
      "Epoch 00052: val_accuracy improved from 0.83991 to 0.84049, saving model to best_model2.hdf5\n",
      "645/645 [==============================] - 12s 18ms/step - loss: 0.3572 - accuracy: 0.8656 - val_loss: 0.4339 - val_accuracy: 0.8405\n",
      "Epoch 53/70\n",
      "643/645 [============================>.] - ETA: 0s - loss: 0.3519 - accuracy: 0.8680\n",
      "Epoch 00053: val_accuracy did not improve from 0.84049\n",
      "645/645 [==============================] - 14s 22ms/step - loss: 0.3518 - accuracy: 0.8680 - val_loss: 0.4336 - val_accuracy: 0.8398\n",
      "Epoch 54/70\n",
      "642/645 [============================>.] - ETA: 0s - loss: 0.3548 - accuracy: 0.8675\n",
      "Epoch 00054: val_accuracy did not improve from 0.84049\n",
      "645/645 [==============================] - 12s 19ms/step - loss: 0.3550 - accuracy: 0.8675 - val_loss: 0.4416 - val_accuracy: 0.8399\n",
      "Epoch 55/70\n",
      "644/645 [============================>.] - ETA: 0s - loss: 0.3548 - accuracy: 0.8686\n",
      "Epoch 00055: val_accuracy did not improve from 0.84049\n",
      "645/645 [==============================] - 13s 20ms/step - loss: 0.3548 - accuracy: 0.8687 - val_loss: 0.4370 - val_accuracy: 0.8385\n",
      "Epoch 56/70\n",
      "643/645 [============================>.] - ETA: 0s - loss: 0.3512 - accuracy: 0.8698\n",
      "Epoch 00056: val_accuracy did not improve from 0.84049\n",
      "645/645 [==============================] - 12s 19ms/step - loss: 0.3515 - accuracy: 0.8696 - val_loss: 0.4351 - val_accuracy: 0.8373\n",
      "Epoch 57/70\n",
      "642/645 [============================>.] - ETA: 0s - loss: 0.3537 - accuracy: 0.8672\n",
      "Epoch 00057: val_accuracy did not improve from 0.84049\n",
      "645/645 [==============================] - 12s 18ms/step - loss: 0.3542 - accuracy: 0.8672 - val_loss: 0.4337 - val_accuracy: 0.8380\n",
      "Epoch 58/70\n",
      "645/645 [==============================] - ETA: 0s - loss: 0.3529 - accuracy: 0.8690\n",
      "Epoch 00058: val_accuracy did not improve from 0.84049\n",
      "645/645 [==============================] - 14s 22ms/step - loss: 0.3529 - accuracy: 0.8690 - val_loss: 0.4319 - val_accuracy: 0.8379\n",
      "Epoch 59/70\n",
      "643/645 [============================>.] - ETA: 0s - loss: 0.3545 - accuracy: 0.8683\n",
      "Epoch 00059: val_accuracy did not improve from 0.84049\n",
      "645/645 [==============================] - 13s 20ms/step - loss: 0.3546 - accuracy: 0.8681 - val_loss: 0.4395 - val_accuracy: 0.8386\n",
      "Epoch 60/70\n",
      "643/645 [============================>.] - ETA: 0s - loss: 0.3539 - accuracy: 0.8682\n",
      "Epoch 00060: val_accuracy did not improve from 0.84049\n",
      "645/645 [==============================] - 12s 19ms/step - loss: 0.3542 - accuracy: 0.8681 - val_loss: 0.4335 - val_accuracy: 0.8390\n",
      "Epoch 61/70\n",
      "645/645 [==============================] - ETA: 0s - loss: 0.3517 - accuracy: 0.8712\n",
      "Epoch 00061: val_accuracy did not improve from 0.84049\n",
      "645/645 [==============================] - 12s 19ms/step - loss: 0.3517 - accuracy: 0.8712 - val_loss: 0.4418 - val_accuracy: 0.8396\n",
      "Epoch 62/70\n",
      "644/645 [============================>.] - ETA: 0s - loss: 0.3470 - accuracy: 0.8700\n",
      "Epoch 00062: val_accuracy did not improve from 0.84049\n",
      "645/645 [==============================] - 12s 18ms/step - loss: 0.3470 - accuracy: 0.8700 - val_loss: 0.4428 - val_accuracy: 0.8392\n",
      "Epoch 63/70\n",
      "644/645 [============================>.] - ETA: 0s - loss: 0.3500 - accuracy: 0.8715\n",
      "Epoch 00063: val_accuracy did not improve from 0.84049\n",
      "645/645 [==============================] - 12s 19ms/step - loss: 0.3499 - accuracy: 0.8715 - val_loss: 0.4372 - val_accuracy: 0.8390\n",
      "Epoch 64/70\n",
      "645/645 [==============================] - ETA: 0s - loss: 0.3501 - accuracy: 0.8681\n",
      "Epoch 00064: val_accuracy did not improve from 0.84049\n",
      "645/645 [==============================] - 15s 24ms/step - loss: 0.3501 - accuracy: 0.8681 - val_loss: 0.4364 - val_accuracy: 0.8392\n",
      "Epoch 65/70\n",
      "644/645 [============================>.] - ETA: 0s - loss: 0.3446 - accuracy: 0.8723\n",
      "Epoch 00065: val_accuracy did not improve from 0.84049\n",
      "645/645 [==============================] - 12s 18ms/step - loss: 0.3445 - accuracy: 0.8723 - val_loss: 0.4359 - val_accuracy: 0.8387\n",
      "Epoch 66/70\n",
      "644/645 [============================>.] - ETA: 0s - loss: 0.3476 - accuracy: 0.8707\n",
      "Epoch 00066: val_accuracy did not improve from 0.84049\n",
      "645/645 [==============================] - 12s 18ms/step - loss: 0.3475 - accuracy: 0.8707 - val_loss: 0.4363 - val_accuracy: 0.8399\n",
      "Epoch 67/70\n",
      "645/645 [==============================] - ETA: 0s - loss: 0.3493 - accuracy: 0.8698\n",
      "Epoch 00067: val_accuracy did not improve from 0.84049\n",
      "645/645 [==============================] - 12s 18ms/step - loss: 0.3493 - accuracy: 0.8698 - val_loss: 0.4352 - val_accuracy: 0.8393\n",
      "Epoch 68/70\n",
      "644/645 [============================>.] - ETA: 0s - loss: 0.3460 - accuracy: 0.8720\n",
      "Epoch 00068: val_accuracy did not improve from 0.84049\n",
      "645/645 [==============================] - 12s 18ms/step - loss: 0.3460 - accuracy: 0.8721 - val_loss: 0.4414 - val_accuracy: 0.8342\n",
      "Epoch 69/70\n",
      "645/645 [==============================] - ETA: 0s - loss: 0.3454 - accuracy: 0.8715\n",
      "Epoch 00069: val_accuracy did not improve from 0.84049\n",
      "645/645 [==============================] - 13s 21ms/step - loss: 0.3454 - accuracy: 0.8715 - val_loss: 0.4411 - val_accuracy: 0.8358\n",
      "Epoch 70/70\n",
      "645/645 [==============================] - ETA: 0s - loss: 0.3426 - accuracy: 0.8731\n",
      "Epoch 00070: val_accuracy did not improve from 0.84049\n",
      "645/645 [==============================] - 14s 21ms/step - loss: 0.3426 - accuracy: 0.8731 - val_loss: 0.4475 - val_accuracy: 0.8331\n"
     ]
    }
   ],
   "source": [
    "model2 = Sequential()\n",
    "model2.add(layers.Embedding(max_words, 20, input_length=max_len))\n",
    "model2.add(layers.Bidirectional(layers.LSTM(20,dropout=0.6)))\n",
    "model2.add(layers.Dense(3,activation='softmax'))\n",
    "model2.compile(optimizer='rmsprop',loss='categorical_crossentropy', metrics=['accuracy'])\n",
    "#Implementing model checkpoins to save the best metric and do not lose it on training.\n",
    "checkpoint2 = ModelCheckpoint(\"best_model2.hdf5\", monitor='val_accuracy', verbose=1,save_best_only=True, mode='auto', period=1,save_weights_only=False)\n",
    "history = model2.fit(X_train, y_train, epochs=70,validation_data=(X_test, y_test),callbacks=[checkpoint2])"
   ]
  },
  {
   "cell_type": "markdown",
   "metadata": {
    "papermill": {
     "duration": 6.268393,
     "end_time": "2020-10-01T00:36:35.500610",
     "exception": false,
     "start_time": "2020-10-01T00:36:29.232217",
     "status": "completed"
    },
    "tags": []
   },
   "source": [
    "## 1D Convolutional model\n",
    "\n",
    "Before diving into this model, I know by prior experience that it tends to overfit extremely fast on small datasets. In this sense, just will implement it to show you how to do it in case it's of your interest."
   ]
  },
  {
   "cell_type": "code",
   "execution_count": 26,
   "metadata": {
    "execution": {
     "iopub.execute_input": "2020-10-01T00:36:47.376632Z",
     "iopub.status.busy": "2020-10-01T00:36:47.375955Z",
     "iopub.status.idle": "2020-10-01T00:43:01.568289Z",
     "shell.execute_reply": "2020-10-01T00:43:01.339781Z"
    },
    "papermill": {
     "duration": 380.220093,
     "end_time": "2020-10-01T00:43:01.568454",
     "exception": false,
     "start_time": "2020-10-01T00:36:41.348361",
     "status": "completed"
    },
    "tags": []
   },
   "outputs": [
    {
     "name": "stdout",
     "output_type": "stream",
     "text": [
      "Epoch 1/70\n",
      "645/645 [==============================] - 5s 8ms/step - loss: 1.0424 - acc: 0.5585 - val_loss: 0.9078 - val_acc: 0.5989\n",
      "Epoch 2/70\n",
      "645/645 [==============================] - 5s 8ms/step - loss: 0.8626 - acc: 0.6347 - val_loss: 0.8419 - val_acc: 0.6639\n",
      "Epoch 3/70\n",
      "645/645 [==============================] - 5s 8ms/step - loss: 0.8039 - acc: 0.7187 - val_loss: 0.8107 - val_acc: 0.7095\n",
      "Epoch 4/70\n",
      "645/645 [==============================] - 5s 8ms/step - loss: 0.7343 - acc: 0.7621 - val_loss: 0.7544 - val_acc: 0.7395\n",
      "Epoch 5/70\n",
      "645/645 [==============================] - 5s 8ms/step - loss: 0.6535 - acc: 0.7953 - val_loss: 0.6620 - val_acc: 0.7904\n",
      "Epoch 6/70\n",
      "645/645 [==============================] - 5s 8ms/step - loss: 0.6169 - acc: 0.8104 - val_loss: 0.6456 - val_acc: 0.7935\n",
      "Epoch 7/70\n",
      "645/645 [==============================] - 5s 8ms/step - loss: 0.5888 - acc: 0.8208 - val_loss: 0.6493 - val_acc: 0.7909\n",
      "Epoch 8/70\n",
      "645/645 [==============================] - 5s 8ms/step - loss: 0.5683 - acc: 0.8265 - val_loss: 0.6224 - val_acc: 0.7909\n",
      "Epoch 9/70\n",
      "645/645 [==============================] - 5s 8ms/step - loss: 0.5484 - acc: 0.8312 - val_loss: 0.6710 - val_acc: 0.7658\n",
      "Epoch 10/70\n",
      "645/645 [==============================] - 5s 8ms/step - loss: 0.5347 - acc: 0.8344 - val_loss: 0.6941 - val_acc: 0.7433\n",
      "Epoch 11/70\n",
      "645/645 [==============================] - 5s 8ms/step - loss: 0.5228 - acc: 0.8387 - val_loss: 0.5910 - val_acc: 0.8019\n",
      "Epoch 12/70\n",
      "645/645 [==============================] - 6s 9ms/step - loss: 0.5105 - acc: 0.8442 - val_loss: 0.6094 - val_acc: 0.8102\n",
      "Epoch 13/70\n",
      "645/645 [==============================] - 6s 10ms/step - loss: 0.5014 - acc: 0.8492 - val_loss: 0.5954 - val_acc: 0.8149\n",
      "Epoch 14/70\n",
      "645/645 [==============================] - 7s 11ms/step - loss: 0.4909 - acc: 0.8541 - val_loss: 0.5816 - val_acc: 0.8021\n",
      "Epoch 15/70\n",
      "645/645 [==============================] - 5s 8ms/step - loss: 0.4810 - acc: 0.8557 - val_loss: 0.6094 - val_acc: 0.8059\n",
      "Epoch 16/70\n",
      "645/645 [==============================] - 5s 8ms/step - loss: 0.4752 - acc: 0.8576 - val_loss: 0.5940 - val_acc: 0.8133\n",
      "Epoch 17/70\n",
      "645/645 [==============================] - 5s 8ms/step - loss: 0.4680 - acc: 0.8591 - val_loss: 0.6045 - val_acc: 0.8152\n",
      "Epoch 18/70\n",
      "645/645 [==============================] - 5s 8ms/step - loss: 0.4636 - acc: 0.8608 - val_loss: 0.5803 - val_acc: 0.8141\n",
      "Epoch 19/70\n",
      "645/645 [==============================] - 5s 8ms/step - loss: 0.4574 - acc: 0.8641 - val_loss: 0.5746 - val_acc: 0.8118\n",
      "Epoch 20/70\n",
      "645/645 [==============================] - 5s 8ms/step - loss: 0.4531 - acc: 0.8643 - val_loss: 0.6988 - val_acc: 0.7468\n",
      "Epoch 21/70\n",
      "645/645 [==============================] - 5s 8ms/step - loss: 0.4476 - acc: 0.8675 - val_loss: 0.5751 - val_acc: 0.8112\n",
      "Epoch 22/70\n",
      "645/645 [==============================] - 5s 8ms/step - loss: 0.4438 - acc: 0.8668 - val_loss: 0.5706 - val_acc: 0.8168\n",
      "Epoch 23/70\n",
      "645/645 [==============================] - 5s 8ms/step - loss: 0.4387 - acc: 0.8720 - val_loss: 0.5934 - val_acc: 0.8104\n",
      "Epoch 24/70\n",
      "645/645 [==============================] - 5s 7ms/step - loss: 0.4358 - acc: 0.8729 - val_loss: 0.5853 - val_acc: 0.8204\n",
      "Epoch 25/70\n",
      "645/645 [==============================] - 5s 8ms/step - loss: 0.4316 - acc: 0.8725 - val_loss: 0.5860 - val_acc: 0.8086\n",
      "Epoch 26/70\n",
      "645/645 [==============================] - 6s 9ms/step - loss: 0.4283 - acc: 0.8756 - val_loss: 0.6175 - val_acc: 0.8169\n",
      "Epoch 27/70\n",
      "645/645 [==============================] - 7s 11ms/step - loss: 0.4258 - acc: 0.8761 - val_loss: 0.5884 - val_acc: 0.8169\n",
      "Epoch 28/70\n",
      "645/645 [==============================] - 6s 10ms/step - loss: 0.4214 - acc: 0.8788 - val_loss: 0.5889 - val_acc: 0.8123\n",
      "Epoch 29/70\n",
      "645/645 [==============================] - 5s 8ms/step - loss: 0.4178 - acc: 0.8776 - val_loss: 0.5791 - val_acc: 0.8200\n",
      "Epoch 30/70\n",
      "645/645 [==============================] - 5s 7ms/step - loss: 0.4164 - acc: 0.8815 - val_loss: 0.6186 - val_acc: 0.7923\n",
      "Epoch 31/70\n",
      "645/645 [==============================] - 5s 8ms/step - loss: 0.4123 - acc: 0.8817 - val_loss: 0.5903 - val_acc: 0.8238\n",
      "Epoch 32/70\n",
      "645/645 [==============================] - 5s 8ms/step - loss: 0.4097 - acc: 0.8830 - val_loss: 0.6076 - val_acc: 0.8060\n",
      "Epoch 33/70\n",
      "645/645 [==============================] - 5s 8ms/step - loss: 0.4077 - acc: 0.8834 - val_loss: 0.5942 - val_acc: 0.8139\n",
      "Epoch 34/70\n",
      "645/645 [==============================] - 5s 8ms/step - loss: 0.4055 - acc: 0.8865 - val_loss: 0.5895 - val_acc: 0.8131\n",
      "Epoch 35/70\n",
      "645/645 [==============================] - 5s 8ms/step - loss: 0.4044 - acc: 0.8856 - val_loss: 0.5760 - val_acc: 0.8222\n",
      "Epoch 36/70\n",
      "645/645 [==============================] - 5s 8ms/step - loss: 0.4003 - acc: 0.8867 - val_loss: 0.5976 - val_acc: 0.8112\n",
      "Epoch 37/70\n",
      "645/645 [==============================] - 6s 9ms/step - loss: 0.3985 - acc: 0.8891 - val_loss: 0.5922 - val_acc: 0.8236\n",
      "Epoch 38/70\n",
      "645/645 [==============================] - 5s 8ms/step - loss: 0.3967 - acc: 0.8900 - val_loss: 0.5850 - val_acc: 0.8143\n",
      "Epoch 39/70\n",
      "645/645 [==============================] - 5s 8ms/step - loss: 0.3946 - acc: 0.8895 - val_loss: 0.5996 - val_acc: 0.8157\n",
      "Epoch 40/70\n",
      "645/645 [==============================] - 6s 9ms/step - loss: 0.3935 - acc: 0.8915 - val_loss: 0.5948 - val_acc: 0.8166\n",
      "Epoch 41/70\n",
      "645/645 [==============================] - 6s 10ms/step - loss: 0.3904 - acc: 0.8920 - val_loss: 0.6041 - val_acc: 0.8137\n",
      "Epoch 42/70\n",
      "645/645 [==============================] - 6s 9ms/step - loss: 0.3878 - acc: 0.8915 - val_loss: 0.6383 - val_acc: 0.8102\n",
      "Epoch 43/70\n",
      "645/645 [==============================] - 5s 8ms/step - loss: 0.3863 - acc: 0.8941 - val_loss: 0.6487 - val_acc: 0.7951\n",
      "Epoch 44/70\n",
      "645/645 [==============================] - 5s 8ms/step - loss: 0.3837 - acc: 0.8938 - val_loss: 0.6268 - val_acc: 0.8032\n",
      "Epoch 45/70\n",
      "645/645 [==============================] - 5s 8ms/step - loss: 0.3835 - acc: 0.8951 - val_loss: 0.6261 - val_acc: 0.8131\n",
      "Epoch 46/70\n",
      "645/645 [==============================] - 5s 8ms/step - loss: 0.3803 - acc: 0.8968 - val_loss: 0.6344 - val_acc: 0.8194\n",
      "Epoch 47/70\n",
      "645/645 [==============================] - 5s 8ms/step - loss: 0.3795 - acc: 0.8977 - val_loss: 0.6140 - val_acc: 0.8038\n",
      "Epoch 48/70\n",
      "645/645 [==============================] - 5s 8ms/step - loss: 0.3801 - acc: 0.8967 - val_loss: 0.6366 - val_acc: 0.8141\n",
      "Epoch 49/70\n",
      "645/645 [==============================] - 5s 8ms/step - loss: 0.3766 - acc: 0.8988 - val_loss: 0.7050 - val_acc: 0.7546\n",
      "Epoch 50/70\n",
      "645/645 [==============================] - 5s 8ms/step - loss: 0.3751 - acc: 0.8984 - val_loss: 0.6113 - val_acc: 0.8102\n",
      "Epoch 51/70\n",
      "645/645 [==============================] - 5s 7ms/step - loss: 0.3733 - acc: 0.8982 - val_loss: 0.6179 - val_acc: 0.8050\n",
      "Epoch 52/70\n",
      "645/645 [==============================] - 5s 8ms/step - loss: 0.3706 - acc: 0.9000 - val_loss: 0.6144 - val_acc: 0.8147\n",
      "Epoch 53/70\n",
      "645/645 [==============================] - 5s 8ms/step - loss: 0.3693 - acc: 0.9000 - val_loss: 0.6252 - val_acc: 0.8156\n",
      "Epoch 54/70\n",
      "645/645 [==============================] - 6s 9ms/step - loss: 0.3677 - acc: 0.9026 - val_loss: 0.7046 - val_acc: 0.7703\n",
      "Epoch 55/70\n",
      "645/645 [==============================] - 6s 10ms/step - loss: 0.3670 - acc: 0.9026 - val_loss: 0.6124 - val_acc: 0.8194\n",
      "Epoch 56/70\n",
      "645/645 [==============================] - 7s 10ms/step - loss: 0.3646 - acc: 0.9027 - val_loss: 0.6317 - val_acc: 0.8152\n",
      "Epoch 57/70\n",
      "645/645 [==============================] - 5s 8ms/step - loss: 0.3659 - acc: 0.9019 - val_loss: 0.6252 - val_acc: 0.8130\n",
      "Epoch 58/70\n",
      "645/645 [==============================] - 5s 8ms/step - loss: 0.3629 - acc: 0.9042 - val_loss: 0.6309 - val_acc: 0.8162\n",
      "Epoch 59/70\n",
      "645/645 [==============================] - 5s 8ms/step - loss: 0.3616 - acc: 0.9048 - val_loss: 0.6368 - val_acc: 0.8076\n",
      "Epoch 60/70\n",
      "645/645 [==============================] - 5s 8ms/step - loss: 0.3608 - acc: 0.9054 - val_loss: 0.6324 - val_acc: 0.8136\n",
      "Epoch 61/70\n",
      "645/645 [==============================] - 5s 8ms/step - loss: 0.3583 - acc: 0.9061 - val_loss: 0.6375 - val_acc: 0.8061\n",
      "Epoch 62/70\n",
      "645/645 [==============================] - 5s 8ms/step - loss: 0.3591 - acc: 0.9069 - val_loss: 0.6689 - val_acc: 0.8032\n",
      "Epoch 63/70\n",
      "645/645 [==============================] - 5s 7ms/step - loss: 0.3562 - acc: 0.9074 - val_loss: 0.6442 - val_acc: 0.8139\n",
      "Epoch 64/70\n",
      "645/645 [==============================] - 5s 8ms/step - loss: 0.3567 - acc: 0.9050 - val_loss: 0.6508 - val_acc: 0.7989\n",
      "Epoch 65/70\n",
      "645/645 [==============================] - 5s 7ms/step - loss: 0.3547 - acc: 0.9064 - val_loss: 0.7637 - val_acc: 0.7395\n",
      "Epoch 66/70\n",
      "645/645 [==============================] - 5s 8ms/step - loss: 0.3529 - acc: 0.9079 - val_loss: 0.6450 - val_acc: 0.7992\n",
      "Epoch 67/70\n",
      "645/645 [==============================] - 5s 8ms/step - loss: 0.3520 - acc: 0.9083 - val_loss: 0.7405 - val_acc: 0.7439\n",
      "Epoch 68/70\n",
      "645/645 [==============================] - 6s 9ms/step - loss: 0.3510 - acc: 0.9084 - val_loss: 0.6547 - val_acc: 0.8038\n",
      "Epoch 69/70\n",
      "645/645 [==============================] - 6s 10ms/step - loss: 0.3495 - acc: 0.9087 - val_loss: 0.6649 - val_acc: 0.8114\n",
      "Epoch 70/70\n",
      "645/645 [==============================] - 7s 11ms/step - loss: 0.3487 - acc: 0.9097 - val_loss: 0.6523 - val_acc: 0.8149\n"
     ]
    }
   ],
   "source": [
    "from keras import regularizers\n",
    "model3 = Sequential()\n",
    "model3.add(layers.Embedding(max_words, 128, input_length=max_len))\n",
    "model3.add(layers.Conv1D(18, 6, activation='relu',kernel_regularizer=regularizers.l1_l2(l1=2e-3, l2=2e-3),bias_regularizer=regularizers.l2(2e-3)))\n",
    "model3.add(layers.MaxPooling1D(5))\n",
    "model3.add(layers.Conv1D(18, 6, activation='relu',kernel_regularizer=regularizers.l1_l2(l1=2e-3, l2=2e-3),bias_regularizer=regularizers.l2(2e-3)))\n",
    "model3.add(layers.GlobalMaxPooling1D())\n",
    "model3.add(layers.Dense(3,activation='softmax'))\n",
    "model3.compile(optimizer='rmsprop',loss='categorical_crossentropy',metrics=['acc'])\n",
    "checkpoint3 = ModelCheckpoint(\"best_model3.hdf5\", monitor='val_accuracy', verbose=1,save_best_only=True, mode='auto', period=1,save_weights_only=False)\n",
    "history = model3.fit(X_train, y_train, epochs=70,validation_data=(X_test, y_test),callbacks=[checkpoint3])"
   ]
  },
  {
   "cell_type": "markdown",
   "metadata": {
    "papermill": {
     "duration": 7.643486,
     "end_time": "2020-10-01T00:43:17.406113",
     "exception": false,
     "start_time": "2020-10-01T00:43:09.762627",
     "status": "completed"
    },
    "tags": []
   },
   "source": [
    "If you check the val_accuracy metric in the training logs you won't find better score than the one achieved by the BidRNN. Again, the previous model is not the best for this task becaue is majorly used for short translation tasks, but the good thing to notice is its speed to train.\n",
    "\n",
    "Let's move on."
   ]
  },
  {
   "cell_type": "markdown",
   "metadata": {
    "papermill": {
     "duration": 7.763914,
     "end_time": "2020-10-01T00:43:33.242123",
     "exception": false,
     "start_time": "2020-10-01T00:43:25.478209",
     "status": "completed"
    },
    "tags": []
   },
   "source": [
    "# Best model validation"
   ]
  },
  {
   "cell_type": "code",
   "execution_count": 27,
   "metadata": {
    "execution": {
     "iopub.execute_input": "2020-10-01T00:43:48.699062Z",
     "iopub.status.busy": "2020-10-01T00:43:48.698168Z",
     "iopub.status.idle": "2020-10-01T00:43:49.242577Z",
     "shell.execute_reply": "2020-10-01T00:43:49.241125Z"
    },
    "papermill": {
     "duration": 8.350385,
     "end_time": "2020-10-01T00:43:49.242690",
     "exception": false,
     "start_time": "2020-10-01T00:43:40.892305",
     "status": "completed"
    },
    "tags": []
   },
   "outputs": [],
   "source": [
    "#Let's load the best model obtained during training\n",
    "best_model = keras.models.load_model(\"best_model2.hdf5\")"
   ]
  },
  {
   "cell_type": "code",
   "execution_count": 28,
   "metadata": {
    "execution": {
     "iopub.execute_input": "2020-10-01T00:44:05.570209Z",
     "iopub.status.busy": "2020-10-01T00:44:05.569343Z",
     "iopub.status.idle": "2020-10-01T00:44:07.821340Z",
     "shell.execute_reply": "2020-10-01T00:44:07.820192Z"
    },
    "papermill": {
     "duration": 10.538696,
     "end_time": "2020-10-01T00:44:07.821453",
     "exception": false,
     "start_time": "2020-10-01T00:43:57.282757",
     "status": "completed"
    },
    "tags": []
   },
   "outputs": [
    {
     "name": "stdout",
     "output_type": "stream",
     "text": [
      "215/215 - 2s - loss: 0.4339 - accuracy: 0.8405\n",
      "Model accuracy:  0.8404890298843384\n"
     ]
    }
   ],
   "source": [
    "test_loss, test_acc = best_model.evaluate(X_test, y_test, verbose=2)\n",
    "print('Model accuracy: ',test_acc)"
   ]
  },
  {
   "cell_type": "code",
   "execution_count": 29,
   "metadata": {
    "execution": {
     "iopub.execute_input": "2020-10-01T00:44:23.473678Z",
     "iopub.status.busy": "2020-10-01T00:44:23.472756Z",
     "iopub.status.idle": "2020-10-01T00:44:25.933265Z",
     "shell.execute_reply": "2020-10-01T00:44:25.932462Z"
    },
    "papermill": {
     "duration": 10.249555,
     "end_time": "2020-10-01T00:44:25.933381",
     "exception": false,
     "start_time": "2020-10-01T00:44:15.683826",
     "status": "completed"
    },
    "tags": []
   },
   "outputs": [],
   "source": [
    "predictions = best_model.predict(X_test)"
   ]
  },
  {
   "cell_type": "markdown",
   "metadata": {
    "papermill": {
     "duration": 7.799321,
     "end_time": "2020-10-01T00:44:41.224337",
     "exception": false,
     "start_time": "2020-10-01T00:44:33.425016",
     "status": "completed"
    },
    "tags": []
   },
   "source": [
    "## Confusion matrix\n",
    "\n",
    "Alright, we all know the accuracy is not a good metric to measure how well a model is. That's the reason why I like to always see its confusion matrix, that way I have a better understanding of its classification and generalization ability. Let's plot it."
   ]
  },
  {
   "cell_type": "code",
   "execution_count": 30,
   "metadata": {
    "execution": {
     "iopub.execute_input": "2020-10-01T00:44:56.733041Z",
     "iopub.status.busy": "2020-10-01T00:44:56.732196Z",
     "iopub.status.idle": "2020-10-01T00:44:56.743191Z",
     "shell.execute_reply": "2020-10-01T00:44:56.742727Z"
    },
    "papermill": {
     "duration": 7.685192,
     "end_time": "2020-10-01T00:44:56.743303",
     "exception": false,
     "start_time": "2020-10-01T00:44:49.058111",
     "status": "completed"
    },
    "tags": []
   },
   "outputs": [],
   "source": [
    "from sklearn.metrics import confusion_matrix\n",
    "matrix = confusion_matrix(y_test.argmax(axis=1), np.around(predictions, decimals=0).argmax(axis=1))"
   ]
  },
  {
   "cell_type": "code",
   "execution_count": 31,
   "metadata": {
    "execution": {
     "iopub.execute_input": "2020-10-01T00:45:13.187880Z",
     "iopub.status.busy": "2020-10-01T00:45:13.187187Z",
     "iopub.status.idle": "2020-10-01T00:45:13.496854Z",
     "shell.execute_reply": "2020-10-01T00:45:13.496398Z"
    },
    "papermill": {
     "duration": 8.454812,
     "end_time": "2020-10-01T00:45:13.496953",
     "exception": false,
     "start_time": "2020-10-01T00:45:05.042141",
     "status": "completed"
    },
    "tags": []
   },
   "outputs": [
    {
     "data": {
      "text/plain": [
       "<matplotlib.axes._subplots.AxesSubplot at 0x7fccadccefd0>"
      ]
     },
     "execution_count": 31,
     "metadata": {},
     "output_type": "execute_result"
    },
    {
     "data": {
      "image/png": "[encoded data removed]",
      "text/plain": [
       "<Figure size 1080x1080 with 2 Axes>"
      ]
     },
     "metadata": {
      "needs_background": "light"
     },
     "output_type": "display_data"
    }
   ],
   "source": [
    "import seaborn as sns\n",
    "conf_matrix = pd.DataFrame(matrix, index = ['Neutral','Negative','Positive'],columns = ['Neutral','Negative','Positive'])\n",
    "#Normalizing\n",
    "conf_matrix = conf_matrix.astype('float') / conf_matrix.sum(axis=1)[:, np.newaxis]\n",
    "plt.figure(figsize = (15,15))\n",
    "sns.heatmap(conf_matrix, annot=True, annot_kws={\"size\": 15})"
   ]
  },
  {
   "cell_type": "markdown",
   "metadata": {
    "papermill": {
     "duration": 7.732896,
     "end_time": "2020-10-01T00:45:29.021368",
     "exception": false,
     "start_time": "2020-10-01T00:45:21.288472",
     "status": "completed"
    },
    "tags": []
   },
   "source": [
    "Again, the model's score is very poor, but keep in mind it hasn't gone through hyperparameter tuning. Let's see how it performs on some test text."
   ]
  },
  {
   "cell_type": "code",
   "execution_count": 32,
   "metadata": {
    "execution": {
     "iopub.execute_input": "2020-10-01T00:45:44.666229Z",
     "iopub.status.busy": "2020-10-01T00:45:44.664774Z",
     "iopub.status.idle": "2020-10-01T00:45:44.667331Z",
     "shell.execute_reply": "2020-10-01T00:45:44.666875Z"
    },
    "papermill": {
     "duration": 7.761254,
     "end_time": "2020-10-01T00:45:44.667427",
     "exception": false,
     "start_time": "2020-10-01T00:45:36.906173",
     "status": "completed"
    },
    "tags": []
   },
   "outputs": [],
   "source": [
    "sentiment = ['Neutral','Negative','Positive']"
   ]
  },
  {
   "cell_type": "code",
   "execution_count": 33,
   "metadata": {
    "execution": {
     "iopub.execute_input": "2020-10-01T00:46:00.515238Z",
     "iopub.status.busy": "2020-10-01T00:46:00.514346Z",
     "iopub.status.idle": "2020-10-01T00:46:00.582421Z",
     "shell.execute_reply": "2020-10-01T00:46:00.583105Z"
    },
    "papermill": {
     "duration": 8.404853,
     "end_time": "2020-10-01T00:46:00.583320",
     "exception": false,
     "start_time": "2020-10-01T00:45:52.178467",
     "status": "completed"
    },
    "tags": []
   },
   "outputs": [
    {
     "data": {
      "text/plain": [
       "'Negative'"
      ]
     },
     "execution_count": 33,
     "metadata": {},
     "output_type": "execute_result"
    }
   ],
   "source": [
    "sequence = tokenizer.texts_to_sequences(['this experience has been the worst , want my money back'])\n",
    "test = pad_sequences(sequence, maxlen=max_len)\n",
    "sentiment[np.around(best_model.predict(test), decimals=0).argmax(axis=1)[0]]"
   ]
  },
  {
   "cell_type": "code",
   "execution_count": 34,
   "metadata": {
    "execution": {
     "iopub.execute_input": "2020-10-01T00:46:16.584648Z",
     "iopub.status.busy": "2020-10-01T00:46:16.583746Z",
     "iopub.status.idle": "2020-10-01T00:46:16.627997Z",
     "shell.execute_reply": "2020-10-01T00:46:16.628683Z"
    },
    "papermill": {
     "duration": 7.958006,
     "end_time": "2020-10-01T00:46:16.628878",
     "exception": false,
     "start_time": "2020-10-01T00:46:08.670872",
     "status": "completed"
    },
    "tags": []
   },
   "outputs": [
    {
     "data": {
      "text/plain": [
       "'Positive'"
      ]
     },
     "execution_count": 34,
     "metadata": {},
     "output_type": "execute_result"
    }
   ],
   "source": [
    "sequence = tokenizer.texts_to_sequences(['this is the best article i have read ever'])\n",
    "test = pad_sequences(sequence, maxlen=max_len)\n",
    "sentiment[np.around(best_model.predict(test), decimals=0).argmax(axis=1)[0]]"
   ]
  },
  {
   "cell_type": "code",
   "execution_count": 35,
   "metadata": {
    "execution": {
     "iopub.execute_input": "2020-10-01T00:46:32.143421Z",
     "iopub.status.busy": "2020-10-01T00:46:32.142577Z",
     "iopub.status.idle": "2020-10-01T00:46:32.187181Z",
     "shell.execute_reply": "2020-10-01T00:46:32.186361Z"
    },
    "papermill": {
     "duration": 8.037743,
     "end_time": "2020-10-01T00:46:32.187313",
     "exception": false,
     "start_time": "2020-10-01T00:46:24.149570",
     "status": "completed"
    },
    "tags": []
   },
   "outputs": [
    {
     "data": {
      "text/plain": [
       "'Negative'"
      ]
     },
     "execution_count": 35,
     "metadata": {},
     "output_type": "execute_result"
    }
   ],
   "source": [
    "sequence = tokenizer.texts_to_sequences(['i hate youtube ads, they are annoying'])\n",
    "test = pad_sequences(sequence, maxlen=max_len)\n",
    "sentiment[np.around(best_model.predict(test), decimals=0).argmax(axis=1)[0]]"
   ]
  },
  {
   "cell_type": "markdown",
   "metadata": {
    "papermill": {
     "duration": 7.469766,
     "end_time": "2020-10-01T00:46:47.466134",
     "exception": false,
     "start_time": "2020-10-01T00:46:39.996368",
     "status": "completed"
    },
    "tags": []
   },
   "source": [
    "We've reached the end of this notebook. I just wanted to highlight a few things before let you go.\n",
    "\n",
    "As you could see, very simple networks can achieve fantastic results. To go beyond, always the best approach is to build a model that underfit the data, then optimize it to overfit and finally start tuning your hyperparameters to achieve the metric that the business needs to reach. The way you tune the model is up to you, there's no magic formula for it, but adding regularization always works, as well as dropout. \n",
    "\n",
    "If you have any doubt, please feel free to comment :)"
   ]
  },
  {
   "cell_type": "code",
   "execution_count": null,
   "metadata": {
    "papermill": {
     "duration": 8.37058,
     "end_time": "2020-10-01T00:47:03.737723",
     "exception": false,
     "start_time": "2020-10-01T00:46:55.367143",
     "status": "completed"
    },
    "tags": []
   },
   "outputs": [],
   "source": []
  }
 ],
 "metadata": {
  "kernelspec": {
   "display_name": "Python 3",
   "language": "python",
   "name": "python3"
  },
  "language_info": {
   "codemirror_mode": {
    "name": "ipython",
    "version": 3
   },
   "file_extension": ".py",
   "mimetype": "text/x-python",
   "name": "python",
   "nbconvert_exporter": "python",
   "pygments_lexer": "ipython3",
   "version": "3.7.6"
  },
  "papermill": {
   "duration": 2091.855212,
   "end_time": "2020-10-01T00:47:12.952802",
   "environment_variables": {},
   "exception": null,
   "input_path": "__notebook__.ipynb",
   "output_path": "__notebook__.ipynb",
   "parameters": {},
   "start_time": "2020-10-01T00:12:21.097590",
   "version": "2.1.0"
  }
 },
 "nbformat": 4,
 "nbformat_minor": 4
}
